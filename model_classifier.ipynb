{
 "cells": [
  {
   "cell_type": "markdown",
   "metadata": {},
   "source": [
    "# construction du modèle"
   ]
  },
  {
   "cell_type": "markdown",
   "metadata": {},
   "source": [
    "## Importation des modules"
   ]
  },
  {
   "cell_type": "code",
   "execution_count": 1,
   "metadata": {},
   "outputs": [],
   "source": [
    "import pandas as pd\n",
    "from sklearn.model_selection import train_test_split\n",
    "from sklearn.preprocessing import MultiLabelBinarizer\n",
    "from joblib import dump\n",
    "from utils import clean_text\n",
    "from utils import evaluate_model\n",
    "from sklearn.pipeline import Pipeline\n",
    "from sklearn.feature_extraction.text import CountVectorizer\n",
    "from sklearn.multiclass import OneVsRestClassifier\n",
    "from sklearn.linear_model import LogisticRegression\n",
    "from sklearn.multiclass import OneVsRestClassifier"
   ]
  },
  {
   "cell_type": "markdown",
   "metadata": {},
   "source": [
    "## Définition des fonctions"
   ]
  },
  {
   "cell_type": "markdown",
   "metadata": {},
   "source": [
    "## Importation des données et brève exploration"
   ]
  },
  {
   "cell_type": "code",
   "execution_count": 2,
   "metadata": {},
   "outputs": [
    {
     "data": {
      "text/html": [
       "<div>\n",
       "<style scoped>\n",
       "    .dataframe tbody tr th:only-of-type {\n",
       "        vertical-align: middle;\n",
       "    }\n",
       "\n",
       "    .dataframe tbody tr th {\n",
       "        vertical-align: top;\n",
       "    }\n",
       "\n",
       "    .dataframe thead th {\n",
       "        text-align: right;\n",
       "    }\n",
       "</style>\n",
       "<table border=\"1\" class=\"dataframe\">\n",
       "  <thead>\n",
       "    <tr style=\"text-align: right;\">\n",
       "      <th></th>\n",
       "      <th>Title</th>\n",
       "      <th>Body</th>\n",
       "      <th>Tags</th>\n",
       "      <th>Id</th>\n",
       "      <th>Score</th>\n",
       "      <th>ViewCount</th>\n",
       "      <th>FavoriteCount</th>\n",
       "      <th>AnswerCount</th>\n",
       "    </tr>\n",
       "  </thead>\n",
       "  <tbody>\n",
       "    <tr>\n",
       "      <th>0</th>\n",
       "      <td>Minification failed. Returning unminified cont...</td>\n",
       "      <td>&lt;p&gt;I have made my first website using MVC 5 wh...</td>\n",
       "      <td>|asp.net|asp.net-mvc|bundling-and-minification|</td>\n",
       "      <td>24395412</td>\n",
       "      <td>40</td>\n",
       "      <td>49177</td>\n",
       "      <td>0.0</td>\n",
       "      <td>12</td>\n",
       "    </tr>\n",
       "    <tr>\n",
       "      <th>1</th>\n",
       "      <td>Where should ajax request be made in Flux app?</td>\n",
       "      <td>&lt;p&gt;I'm creating a react.js application with fl...</td>\n",
       "      <td>|javascript|reactjs|reactjs-flux|</td>\n",
       "      <td>26632415</td>\n",
       "      <td>199</td>\n",
       "      <td>40698</td>\n",
       "      <td>0.0</td>\n",
       "      <td>6</td>\n",
       "    </tr>\n",
       "    <tr>\n",
       "      <th>2</th>\n",
       "      <td>Gem Install Debugger Error</td>\n",
       "      <td>&lt;p&gt;I am running Rails v4.0.2 on Mac OS 10.9.2 ...</td>\n",
       "      <td>|ruby-on-rails|ruby|rubygems|rvm|</td>\n",
       "      <td>24395453</td>\n",
       "      <td>25</td>\n",
       "      <td>28278</td>\n",
       "      <td>0.0</td>\n",
       "      <td>6</td>\n",
       "    </tr>\n",
       "    <tr>\n",
       "      <th>3</th>\n",
       "      <td>How to Change body parser limit in Firebase?</td>\n",
       "      <td>&lt;p&gt;I'm trying to proxy a file upload to fireba...</td>\n",
       "      <td>|node.js|express|firebase|google-cloud-functio...</td>\n",
       "      <td>45489810</td>\n",
       "      <td>7</td>\n",
       "      <td>946</td>\n",
       "      <td>NaN</td>\n",
       "      <td>1</td>\n",
       "    </tr>\n",
       "    <tr>\n",
       "      <th>4</th>\n",
       "      <td>iOS Android Material Design Hierarchical Timin...</td>\n",
       "      <td>&lt;p&gt;I want to do the animation introduced by An...</td>\n",
       "      <td>|ios|uicollectionview|calayer|material-design|</td>\n",
       "      <td>26632893</td>\n",
       "      <td>11</td>\n",
       "      <td>895</td>\n",
       "      <td>0.0</td>\n",
       "      <td>3</td>\n",
       "    </tr>\n",
       "  </tbody>\n",
       "</table>\n",
       "</div>"
      ],
      "text/plain": [
       "                                               Title  \\\n",
       "0  Minification failed. Returning unminified cont...   \n",
       "1     Where should ajax request be made in Flux app?   \n",
       "2                         Gem Install Debugger Error   \n",
       "3       How to Change body parser limit in Firebase?   \n",
       "4  iOS Android Material Design Hierarchical Timin...   \n",
       "\n",
       "                                                Body  \\\n",
       "0  <p>I have made my first website using MVC 5 wh...   \n",
       "1  <p>I'm creating a react.js application with fl...   \n",
       "2  <p>I am running Rails v4.0.2 on Mac OS 10.9.2 ...   \n",
       "3  <p>I'm trying to proxy a file upload to fireba...   \n",
       "4  <p>I want to do the animation introduced by An...   \n",
       "\n",
       "                                                Tags        Id  Score  \\\n",
       "0    |asp.net|asp.net-mvc|bundling-and-minification|  24395412     40   \n",
       "1                  |javascript|reactjs|reactjs-flux|  26632415    199   \n",
       "2                  |ruby-on-rails|ruby|rubygems|rvm|  24395453     25   \n",
       "3  |node.js|express|firebase|google-cloud-functio...  45489810      7   \n",
       "4     |ios|uicollectionview|calayer|material-design|  26632893     11   \n",
       "\n",
       "   ViewCount  FavoriteCount  AnswerCount  \n",
       "0      49177            0.0           12  \n",
       "1      40698            0.0            6  \n",
       "2      28278            0.0            6  \n",
       "3        946            NaN            1  \n",
       "4        895            0.0            3  "
      ]
     },
     "execution_count": 2,
     "metadata": {},
     "output_type": "execute_result"
    }
   ],
   "source": [
    "data= pd.read_csv(r\"QueryResults.csv\")  \n",
    "data.head()"
   ]
  },
  {
   "cell_type": "code",
   "execution_count": 3,
   "metadata": {},
   "outputs": [
    {
     "name": "stderr",
     "output_type": "stream",
     "text": [
      "C:\\Users\\ouedr\\AppData\\Local\\Temp\\ipykernel_13472\\3189924358.py:1: FutureWarning: Setting an item of incompatible dtype is deprecated and will raise an error in a future version of pandas. Value '' has dtype incompatible with float64, please explicitly cast to a compatible dtype first.\n",
      "  data.fillna('', inplace=True)\n"
     ]
    }
   ],
   "source": [
    "data.fillna('', inplace=True)"
   ]
  },
  {
   "cell_type": "markdown",
   "metadata": {},
   "source": [
    "## Nettoyage"
   ]
  },
  {
   "cell_type": "code",
   "execution_count": 4,
   "metadata": {},
   "outputs": [
    {
     "name": "stderr",
     "output_type": "stream",
     "text": [
      "c:\\Users\\ouedr\\Desktop\\Machine_Learning_Engineer\\Projet_Categorisez_automatiquement_des_questions\\utils.py:18: MarkupResemblesLocatorWarning: The input looks more like a filename than markup. You may want to open this file and pass the filehandle into Beautiful Soup.\n",
      "  text = BeautifulSoup(text, \"html.parser\").get_text()\n"
     ]
    }
   ],
   "source": [
    "data['Title'] = data['Title'].apply(clean_text)\n",
    "data['Body'] = data['Body'].apply(clean_text)"
   ]
  },
  {
   "cell_type": "code",
   "execution_count": 5,
   "metadata": {},
   "outputs": [],
   "source": [
    "tags, nested_tags = [], []\n",
    "# recuperer top k des tags importants\n",
    "for i in range(len(data)):\n",
    "  tags.append(data[\"Tags\"].iloc[i].split('|'))\n",
    "for tag in tags:\n",
    "  for subtag in tag:\n",
    "    if subtag !=\"\":\n",
    "      nested_tags.append(subtag)\n",
    "\n",
    "df_tags =  pd.DataFrame(nested_tags).rename(columns={0:\"tags\"})\n",
    "df_tags = df_tags[\"tags\"].value_counts().reset_index().sort_values(\"count\", ascending=False)\n",
    "real_tags = df_tags.head(30)[\"tags\"].tolist()"
   ]
  },
  {
   "cell_type": "code",
   "execution_count": 6,
   "metadata": {},
   "outputs": [],
   "source": [
    "# transformer le contenu de tag en list de simple tag\n",
    "data['filtered_tags'] = data['Tags'].str.split(\"|\")"
   ]
  },
  {
   "cell_type": "code",
   "execution_count": 7,
   "metadata": {},
   "outputs": [],
   "source": [
    "# strip les virgules au debut des tags\n",
    "def strip_and_filter_commas(tag_list):\n",
    "    return [tag.strip(',') for tag in tag_list if tag.strip(',')]\n",
    "data['filtered_tags'] = data['filtered_tags'].apply(strip_and_filter_commas)"
   ]
  },
  {
   "cell_type": "code",
   "execution_count": 8,
   "metadata": {},
   "outputs": [],
   "source": [
    "# Vérifier si chaque ligne de 'filtered_tags' contient au moins un élément de 'real_tags'\n",
    "data['contains_real_tag'] = data['filtered_tags'].apply(lambda x: any(tag in x for tag in real_tags))"
   ]
  },
  {
   "cell_type": "code",
   "execution_count": 9,
   "metadata": {},
   "outputs": [],
   "source": [
    "# garder les tags pertinents et remplacer par others si impertinents\n",
    "allowed_tags = real_tags\n",
    "\n",
    "def filter_tags(tag_list):\n",
    "    if any(tag in allowed_tags for tag in tag_list):\n",
    "        return [tag for tag in tag_list if tag in allowed_tags]\n",
    "    else:\n",
    "        return [\"Others\"]   \n",
    "\n",
    "\t\n",
    "data['filtered_tags'] = data['filtered_tags'].apply(filter_tags)"
   ]
  },
  {
   "cell_type": "markdown",
   "metadata": {},
   "source": [
    "## Encodage"
   ]
  },
  {
   "cell_type": "code",
   "execution_count": 10,
   "metadata": {},
   "outputs": [],
   "source": [
    "mlb = MultiLabelBinarizer()\n",
    "mlb.fit(data['filtered_tags'])\n",
    "y = mlb.transform(data['filtered_tags'])"
   ]
  },
  {
   "cell_type": "markdown",
   "metadata": {},
   "source": [
    "## Vectorisation"
   ]
  },
  {
   "cell_type": "code",
   "execution_count": 12,
   "metadata": {},
   "outputs": [],
   "source": [
    "X = data[['Title', 'Body']].apply(lambda x: ' '.join(x), axis=1)\n",
    "vectorizer = CountVectorizer()\n",
    "X = vectorizer.fit_transform(X)"
   ]
  },
  {
   "cell_type": "code",
   "execution_count": 13,
   "metadata": {},
   "outputs": [
    {
     "name": "stdout",
     "output_type": "stream",
     "text": [
      "['.net' 'Others' 'android' 'angular' 'angularjs' 'asp.net' 'c' 'c#' 'c++'\n",
      " 'css' 'django' 'git' 'html' 'ios' 'java' 'javascript' 'jquery' 'linux'\n",
      " 'mysql' 'node.js' 'objective-c' 'php' 'python' 'r' 'reactjs' 'ruby'\n",
      " 'ruby-on-rails' 'sql' 'sql-server' 'swift' 'windows']\n"
     ]
    }
   ],
   "source": [
    "print(mlb.classes_)"
   ]
  },
  {
   "cell_type": "code",
   "execution_count": 14,
   "metadata": {},
   "outputs": [],
   "source": [
    "X_train, X_test, y_train, y_test = train_test_split(X, y, test_size=0.2, random_state=42)"
   ]
  },
  {
   "cell_type": "markdown",
   "metadata": {},
   "source": [
    "## Entrainement du modèle"
   ]
  },
  {
   "cell_type": "code",
   "execution_count": 15,
   "metadata": {},
   "outputs": [],
   "source": [
    "model = LogisticRegression(random_state=42, max_iter = 2000)\n",
    "pipeline = Pipeline([\n",
    "      ('classifier', OneVsRestClassifier(model))\n",
    "  ])\n",
    "pipeline.fit(X_train, y_train)\n",
    "y_pred = pipeline.predict(X)"
   ]
  },
  {
   "cell_type": "markdown",
   "metadata": {},
   "source": [
    "## Evaluation du modèle"
   ]
  },
  {
   "cell_type": "code",
   "execution_count": 16,
   "metadata": {},
   "outputs": [
    {
     "name": "stdout",
     "output_type": "stream",
     "text": [
      "Accuracy: 0.4024\n",
      "Precision: 0.6588888192923241\n",
      "Recall: 0.5279973095678493\n",
      "F1-score: 0.5850032895366034\n"
     ]
    }
   ],
   "source": [
    "evaluate_model(pipeline, X_test, y_test, mlb)"
   ]
  },
  {
   "cell_type": "markdown",
   "metadata": {},
   "source": [
    "## Enregistrement du modèle et des fonctions"
   ]
  },
  {
   "cell_type": "code",
   "execution_count": 17,
   "metadata": {},
   "outputs": [
    {
     "data": {
      "text/plain": [
       "['mlb_encoder']"
      ]
     },
     "execution_count": 17,
     "metadata": {},
     "output_type": "execute_result"
    }
   ],
   "source": [
    "dump(pipeline, 'model.classifier')\n",
    "dump(vectorizer, 'model_vectorizer')\n",
    "dump(mlb, 'mlb_encoder')"
   ]
  },
  {
   "cell_type": "markdown",
   "metadata": {},
   "source": [
    "## Test"
   ]
  },
  {
   "cell_type": "code",
   "execution_count": 18,
   "metadata": {},
   "outputs": [
    {
     "data": {
      "text/plain": [
       "[('django', 'python')]"
      ]
     },
     "execution_count": 18,
     "metadata": {},
     "output_type": "execute_result"
    }
   ],
   "source": [
    "# Exemple pour tester avec de nouvelles données\n",
    "\n",
    "new_data = pd.DataFrame({\n",
    "    'Title': ['django update model field based another field'],\n",
    "    'Body': ['new django python want something used often java consider following model relevant class class item model model name model charfield model decimalfield default def self return self name class saledetail model model item model foreignkey item deposit model foreignkey deposit quantity model positiveintegerfield model decimalfield sale model foreignkey sale def self value self none self value want time item added saledetail update saledetail item saledetail new set used java pojos include logic setter method tried using python property encapsulate item property django update field directly hood would break automatic functionallity also tried subclassing foreignkey accept callback function find way call method container class want provide default want include logic view logic since conceptually think logic model server side use case would update total sale detail sale would like calculate user decides save sale save signal would work thanks']})\n",
    "\n",
    "new_data['Title'] = new_data['Title'].apply(lambda x: clean_text(x))\n",
    "new_data['Body'] = new_data['Body'].apply(lambda x: clean_text(x))\n",
    "\n",
    "new_data_combined = new_data['Title'] + ' ' + new_data['Body']\n",
    "\n",
    "new_data_combined = new_data[['Title', 'Body']].apply(lambda x: ' '.join(x), axis=1)\n",
    "# Vectorisation des nouvelles données\n",
    "new_X = vectorizer.transform(new_data_combined)\n",
    "\n",
    "# Prédictions pour les nouvelles données\n",
    "result = pipeline.predict(new_X)\n",
    "# Transformation des prédictions en tags originaux\n",
    "result = mlb.inverse_transform(result)\n",
    "result"
   ]
  },
  {
   "cell_type": "code",
   "execution_count": 19,
   "metadata": {},
   "outputs": [
    {
     "data": {
      "text/plain": [
       "[('django', 'python')]"
      ]
     },
     "execution_count": 19,
     "metadata": {},
     "output_type": "execute_result"
    }
   ],
   "source": [
    "result"
   ]
  }
 ],
 "metadata": {
  "kernelspec": {
   "display_name": "Python 3",
   "language": "python",
   "name": "python3"
  },
  "language_info": {
   "codemirror_mode": {
    "name": "ipython",
    "version": 3
   },
   "file_extension": ".py",
   "mimetype": "text/x-python",
   "name": "python",
   "nbconvert_exporter": "python",
   "pygments_lexer": "ipython3",
   "version": "3.12.3"
  }
 },
 "nbformat": 4,
 "nbformat_minor": 2
}
