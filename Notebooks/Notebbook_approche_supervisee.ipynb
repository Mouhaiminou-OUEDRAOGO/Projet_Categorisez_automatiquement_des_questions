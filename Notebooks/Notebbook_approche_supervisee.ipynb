{
  "cells": [
    {
      "cell_type": "markdown",
      "metadata": {
        "id": "kDK0lz2q2V3k"
      },
      "source": [
        "## **Modules**"
      ]
    },
    {
      "cell_type": "code",
      "execution_count": 36,
      "metadata": {
        "collapsed": true,
        "id": "xHWCbvkc8kR_",
        "colab": {
          "base_uri": "https://localhost:8080/"
        },
        "outputId": "ab493782-9bc9-4f13-93e2-c3d615d408cc"
      },
      "outputs": [
        {
          "output_type": "stream",
          "name": "stdout",
          "text": [
            "Requirement already satisfied: tensorflow in /usr/local/lib/python3.10/dist-packages (2.16.1)\n",
            "Requirement already satisfied: tensorflow-hub in /usr/local/lib/python3.10/dist-packages (0.16.1)\n",
            "Requirement already satisfied: tensorflow_text in /usr/local/lib/python3.10/dist-packages (2.16.1)\n",
            "Requirement already satisfied: absl-py>=1.0.0 in /usr/local/lib/python3.10/dist-packages (from tensorflow) (1.4.0)\n",
            "Requirement already satisfied: astunparse>=1.6.0 in /usr/local/lib/python3.10/dist-packages (from tensorflow) (1.6.3)\n",
            "Requirement already satisfied: flatbuffers>=23.5.26 in /usr/local/lib/python3.10/dist-packages (from tensorflow) (24.3.25)\n",
            "Requirement already satisfied: gast!=0.5.0,!=0.5.1,!=0.5.2,>=0.2.1 in /usr/local/lib/python3.10/dist-packages (from tensorflow) (0.5.4)\n",
            "Requirement already satisfied: google-pasta>=0.1.1 in /usr/local/lib/python3.10/dist-packages (from tensorflow) (0.2.0)\n",
            "Requirement already satisfied: h5py>=3.10.0 in /usr/local/lib/python3.10/dist-packages (from tensorflow) (3.11.0)\n",
            "Requirement already satisfied: libclang>=13.0.0 in /usr/local/lib/python3.10/dist-packages (from tensorflow) (18.1.1)\n",
            "Requirement already satisfied: ml-dtypes~=0.3.1 in /usr/local/lib/python3.10/dist-packages (from tensorflow) (0.3.2)\n",
            "Requirement already satisfied: opt-einsum>=2.3.2 in /usr/local/lib/python3.10/dist-packages (from tensorflow) (3.3.0)\n",
            "Requirement already satisfied: packaging in /usr/local/lib/python3.10/dist-packages (from tensorflow) (24.0)\n",
            "Requirement already satisfied: protobuf!=4.21.0,!=4.21.1,!=4.21.2,!=4.21.3,!=4.21.4,!=4.21.5,<5.0.0dev,>=3.20.3 in /usr/local/lib/python3.10/dist-packages (from tensorflow) (3.20.3)\n",
            "Requirement already satisfied: requests<3,>=2.21.0 in /usr/local/lib/python3.10/dist-packages (from tensorflow) (2.31.0)\n",
            "Requirement already satisfied: setuptools in /usr/local/lib/python3.10/dist-packages (from tensorflow) (67.7.2)\n",
            "Requirement already satisfied: six>=1.12.0 in /usr/local/lib/python3.10/dist-packages (from tensorflow) (1.16.0)\n",
            "Requirement already satisfied: termcolor>=1.1.0 in /usr/local/lib/python3.10/dist-packages (from tensorflow) (2.4.0)\n",
            "Requirement already satisfied: typing-extensions>=3.6.6 in /usr/local/lib/python3.10/dist-packages (from tensorflow) (4.11.0)\n",
            "Requirement already satisfied: wrapt>=1.11.0 in /usr/local/lib/python3.10/dist-packages (from tensorflow) (1.14.1)\n",
            "Requirement already satisfied: grpcio<2.0,>=1.24.3 in /usr/local/lib/python3.10/dist-packages (from tensorflow) (1.64.0)\n",
            "Requirement already satisfied: tensorboard<2.17,>=2.16 in /usr/local/lib/python3.10/dist-packages (from tensorflow) (2.16.2)\n",
            "Requirement already satisfied: keras>=3.0.0 in /usr/local/lib/python3.10/dist-packages (from tensorflow) (3.3.3)\n",
            "Requirement already satisfied: tensorflow-io-gcs-filesystem>=0.23.1 in /usr/local/lib/python3.10/dist-packages (from tensorflow) (0.37.0)\n",
            "Requirement already satisfied: numpy<2.0.0,>=1.23.5 in /usr/local/lib/python3.10/dist-packages (from tensorflow) (1.25.2)\n",
            "Requirement already satisfied: tf-keras>=2.14.1 in /usr/local/lib/python3.10/dist-packages (from tensorflow-hub) (2.16.0)\n",
            "Requirement already satisfied: wheel<1.0,>=0.23.0 in /usr/local/lib/python3.10/dist-packages (from astunparse>=1.6.0->tensorflow) (0.43.0)\n",
            "Requirement already satisfied: rich in /usr/local/lib/python3.10/dist-packages (from keras>=3.0.0->tensorflow) (13.7.1)\n",
            "Requirement already satisfied: namex in /usr/local/lib/python3.10/dist-packages (from keras>=3.0.0->tensorflow) (0.0.8)\n",
            "Requirement already satisfied: optree in /usr/local/lib/python3.10/dist-packages (from keras>=3.0.0->tensorflow) (0.11.0)\n",
            "Requirement already satisfied: charset-normalizer<4,>=2 in /usr/local/lib/python3.10/dist-packages (from requests<3,>=2.21.0->tensorflow) (3.3.2)\n",
            "Requirement already satisfied: idna<4,>=2.5 in /usr/local/lib/python3.10/dist-packages (from requests<3,>=2.21.0->tensorflow) (3.7)\n",
            "Requirement already satisfied: urllib3<3,>=1.21.1 in /usr/local/lib/python3.10/dist-packages (from requests<3,>=2.21.0->tensorflow) (2.0.7)\n",
            "Requirement already satisfied: certifi>=2017.4.17 in /usr/local/lib/python3.10/dist-packages (from requests<3,>=2.21.0->tensorflow) (2024.2.2)\n",
            "Requirement already satisfied: markdown>=2.6.8 in /usr/local/lib/python3.10/dist-packages (from tensorboard<2.17,>=2.16->tensorflow) (3.6)\n",
            "Requirement already satisfied: tensorboard-data-server<0.8.0,>=0.7.0 in /usr/local/lib/python3.10/dist-packages (from tensorboard<2.17,>=2.16->tensorflow) (0.7.2)\n",
            "Requirement already satisfied: werkzeug>=1.0.1 in /usr/local/lib/python3.10/dist-packages (from tensorboard<2.17,>=2.16->tensorflow) (3.0.3)\n",
            "Requirement already satisfied: MarkupSafe>=2.1.1 in /usr/local/lib/python3.10/dist-packages (from werkzeug>=1.0.1->tensorboard<2.17,>=2.16->tensorflow) (2.1.5)\n",
            "Requirement already satisfied: markdown-it-py>=2.2.0 in /usr/local/lib/python3.10/dist-packages (from rich->keras>=3.0.0->tensorflow) (3.0.0)\n",
            "Requirement already satisfied: pygments<3.0.0,>=2.13.0 in /usr/local/lib/python3.10/dist-packages (from rich->keras>=3.0.0->tensorflow) (2.16.1)\n",
            "Requirement already satisfied: mdurl~=0.1 in /usr/local/lib/python3.10/dist-packages (from markdown-it-py>=2.2.0->rich->keras>=3.0.0->tensorflow) (0.1.2)\n",
            "Requirement already satisfied: transformers in /usr/local/lib/python3.10/dist-packages (4.41.1)\n",
            "Requirement already satisfied: huggingface_hub in /usr/local/lib/python3.10/dist-packages (0.23.1)\n",
            "Requirement already satisfied: filelock in /usr/local/lib/python3.10/dist-packages (from transformers) (3.14.0)\n",
            "Requirement already satisfied: numpy>=1.17 in /usr/local/lib/python3.10/dist-packages (from transformers) (1.25.2)\n",
            "Requirement already satisfied: packaging>=20.0 in /usr/local/lib/python3.10/dist-packages (from transformers) (24.0)\n",
            "Requirement already satisfied: pyyaml>=5.1 in /usr/local/lib/python3.10/dist-packages (from transformers) (6.0.1)\n",
            "Requirement already satisfied: regex!=2019.12.17 in /usr/local/lib/python3.10/dist-packages (from transformers) (2024.5.15)\n",
            "Requirement already satisfied: requests in /usr/local/lib/python3.10/dist-packages (from transformers) (2.31.0)\n",
            "Requirement already satisfied: tokenizers<0.20,>=0.19 in /usr/local/lib/python3.10/dist-packages (from transformers) (0.19.1)\n",
            "Requirement already satisfied: safetensors>=0.4.1 in /usr/local/lib/python3.10/dist-packages (from transformers) (0.4.3)\n",
            "Requirement already satisfied: tqdm>=4.27 in /usr/local/lib/python3.10/dist-packages (from transformers) (4.66.4)\n",
            "Requirement already satisfied: fsspec>=2023.5.0 in /usr/local/lib/python3.10/dist-packages (from huggingface_hub) (2023.6.0)\n",
            "Requirement already satisfied: typing-extensions>=3.7.4.3 in /usr/local/lib/python3.10/dist-packages (from huggingface_hub) (4.11.0)\n",
            "Requirement already satisfied: charset-normalizer<4,>=2 in /usr/local/lib/python3.10/dist-packages (from requests->transformers) (3.3.2)\n",
            "Requirement already satisfied: idna<4,>=2.5 in /usr/local/lib/python3.10/dist-packages (from requests->transformers) (3.7)\n",
            "Requirement already satisfied: urllib3<3,>=1.21.1 in /usr/local/lib/python3.10/dist-packages (from requests->transformers) (2.0.7)\n",
            "Requirement already satisfied: certifi>=2017.4.17 in /usr/local/lib/python3.10/dist-packages (from requests->transformers) (2024.2.2)\n",
            "Requirement already satisfied: transformers[torch] in /usr/local/lib/python3.10/dist-packages (4.41.1)\n",
            "Requirement already satisfied: filelock in /usr/local/lib/python3.10/dist-packages (from transformers[torch]) (3.14.0)\n",
            "Requirement already satisfied: huggingface-hub<1.0,>=0.23.0 in /usr/local/lib/python3.10/dist-packages (from transformers[torch]) (0.23.1)\n",
            "Requirement already satisfied: numpy>=1.17 in /usr/local/lib/python3.10/dist-packages (from transformers[torch]) (1.25.2)\n",
            "Requirement already satisfied: packaging>=20.0 in /usr/local/lib/python3.10/dist-packages (from transformers[torch]) (24.0)\n",
            "Requirement already satisfied: pyyaml>=5.1 in /usr/local/lib/python3.10/dist-packages (from transformers[torch]) (6.0.1)\n",
            "Requirement already satisfied: regex!=2019.12.17 in /usr/local/lib/python3.10/dist-packages (from transformers[torch]) (2024.5.15)\n",
            "Requirement already satisfied: requests in /usr/local/lib/python3.10/dist-packages (from transformers[torch]) (2.31.0)\n",
            "Requirement already satisfied: tokenizers<0.20,>=0.19 in /usr/local/lib/python3.10/dist-packages (from transformers[torch]) (0.19.1)\n",
            "Requirement already satisfied: safetensors>=0.4.1 in /usr/local/lib/python3.10/dist-packages (from transformers[torch]) (0.4.3)\n",
            "Requirement already satisfied: tqdm>=4.27 in /usr/local/lib/python3.10/dist-packages (from transformers[torch]) (4.66.4)\n",
            "Requirement already satisfied: torch in /usr/local/lib/python3.10/dist-packages (from transformers[torch]) (2.3.0+cu121)\n",
            "Requirement already satisfied: accelerate>=0.21.0 in /usr/local/lib/python3.10/dist-packages (from transformers[torch]) (0.30.1)\n",
            "Requirement already satisfied: psutil in /usr/local/lib/python3.10/dist-packages (from accelerate>=0.21.0->transformers[torch]) (5.9.5)\n",
            "Requirement already satisfied: fsspec>=2023.5.0 in /usr/local/lib/python3.10/dist-packages (from huggingface-hub<1.0,>=0.23.0->transformers[torch]) (2023.6.0)\n",
            "Requirement already satisfied: typing-extensions>=3.7.4.3 in /usr/local/lib/python3.10/dist-packages (from huggingface-hub<1.0,>=0.23.0->transformers[torch]) (4.11.0)\n",
            "Requirement already satisfied: sympy in /usr/local/lib/python3.10/dist-packages (from torch->transformers[torch]) (1.12)\n",
            "Requirement already satisfied: networkx in /usr/local/lib/python3.10/dist-packages (from torch->transformers[torch]) (3.3)\n",
            "Requirement already satisfied: jinja2 in /usr/local/lib/python3.10/dist-packages (from torch->transformers[torch]) (3.1.4)\n",
            "Requirement already satisfied: nvidia-cuda-nvrtc-cu12==12.1.105 in /usr/local/lib/python3.10/dist-packages (from torch->transformers[torch]) (12.1.105)\n",
            "Requirement already satisfied: nvidia-cuda-runtime-cu12==12.1.105 in /usr/local/lib/python3.10/dist-packages (from torch->transformers[torch]) (12.1.105)\n",
            "Requirement already satisfied: nvidia-cuda-cupti-cu12==12.1.105 in /usr/local/lib/python3.10/dist-packages (from torch->transformers[torch]) (12.1.105)\n",
            "Requirement already satisfied: nvidia-cudnn-cu12==8.9.2.26 in /usr/local/lib/python3.10/dist-packages (from torch->transformers[torch]) (8.9.2.26)\n",
            "Requirement already satisfied: nvidia-cublas-cu12==12.1.3.1 in /usr/local/lib/python3.10/dist-packages (from torch->transformers[torch]) (12.1.3.1)\n",
            "Requirement already satisfied: nvidia-cufft-cu12==11.0.2.54 in /usr/local/lib/python3.10/dist-packages (from torch->transformers[torch]) (11.0.2.54)\n",
            "Requirement already satisfied: nvidia-curand-cu12==10.3.2.106 in /usr/local/lib/python3.10/dist-packages (from torch->transformers[torch]) (10.3.2.106)\n",
            "Requirement already satisfied: nvidia-cusolver-cu12==11.4.5.107 in /usr/local/lib/python3.10/dist-packages (from torch->transformers[torch]) (11.4.5.107)\n",
            "Requirement already satisfied: nvidia-cusparse-cu12==12.1.0.106 in /usr/local/lib/python3.10/dist-packages (from torch->transformers[torch]) (12.1.0.106)\n",
            "Requirement already satisfied: nvidia-nccl-cu12==2.20.5 in /usr/local/lib/python3.10/dist-packages (from torch->transformers[torch]) (2.20.5)\n",
            "Requirement already satisfied: nvidia-nvtx-cu12==12.1.105 in /usr/local/lib/python3.10/dist-packages (from torch->transformers[torch]) (12.1.105)\n",
            "Requirement already satisfied: triton==2.3.0 in /usr/local/lib/python3.10/dist-packages (from torch->transformers[torch]) (2.3.0)\n",
            "Requirement already satisfied: nvidia-nvjitlink-cu12 in /usr/local/lib/python3.10/dist-packages (from nvidia-cusolver-cu12==11.4.5.107->torch->transformers[torch]) (12.5.40)\n",
            "Requirement already satisfied: charset-normalizer<4,>=2 in /usr/local/lib/python3.10/dist-packages (from requests->transformers[torch]) (3.3.2)\n",
            "Requirement already satisfied: idna<4,>=2.5 in /usr/local/lib/python3.10/dist-packages (from requests->transformers[torch]) (3.7)\n",
            "Requirement already satisfied: urllib3<3,>=1.21.1 in /usr/local/lib/python3.10/dist-packages (from requests->transformers[torch]) (2.0.7)\n",
            "Requirement already satisfied: certifi>=2017.4.17 in /usr/local/lib/python3.10/dist-packages (from requests->transformers[torch]) (2024.2.2)\n",
            "Requirement already satisfied: MarkupSafe>=2.0 in /usr/local/lib/python3.10/dist-packages (from jinja2->torch->transformers[torch]) (2.1.5)\n",
            "Requirement already satisfied: mpmath>=0.19 in /usr/local/lib/python3.10/dist-packages (from sympy->torch->transformers[torch]) (1.3.0)\n"
          ]
        }
      ],
      "source": [
        "!pip install mlflow pyngrok --quiet\n",
        "!pip install --upgrade tensorflow tensorflow-hub tensorflow_text\n",
        "!pip install transformers huggingface_hub\n",
        "!pip install 'transformers[torch]'"
      ]
    },
    {
      "cell_type": "code",
      "execution_count": 37,
      "metadata": {
        "id": "en7p1ag-2bhz"
      },
      "outputs": [],
      "source": [
        "import pandas as pd\n",
        "import numpy as np\n",
        "import matplotlib.pyplot as plt\n",
        "import seaborn as sns\n",
        "from sklearn.model_selection import train_test_split\n",
        "from sklearn.metrics import accuracy_score, precision_score, recall_score, f1_score, confusion_matrix, classification_report, jaccard_score\n",
        "from sklearn.preprocessing import MultiLabelBinarizer\n",
        "import multiprocessing\n",
        "from sklearn.metrics import multilabel_confusion_matrix\n",
        "import mlflow\n",
        "import time\n",
        "import pickle\n",
        "from sklearn.model_selection import ParameterGrid\n",
        "from sklearn.pipeline import Pipeline\n",
        "from sklearn.feature_extraction.text import CountVectorizer\n",
        "from sklearn.multiclass import OneVsRestClassifier\n",
        "from sklearn.linear_model import LogisticRegression\n",
        "from sklearn.linear_model import SGDClassifier\n",
        "from sklearn.multioutput import ClassifierChain\n",
        "from sklearn.ensemble import RandomForestClassifier\n",
        "from sklearn.neighbors import KNeighborsClassifier\n",
        "from gensim.models import Word2Vec\n",
        "import tensorflow as tf\n",
        "import tensorflow_hub as hub\n",
        "import tensorflow_text as text\n",
        "import logging\n",
        "from transformers import BertTokenizer, BertModel\n",
        "import torch"
      ]
    },
    {
      "cell_type": "markdown",
      "metadata": {
        "id": "mNosIaR42x_W"
      },
      "source": [
        "## **Fonctions**"
      ]
    },
    {
      "cell_type": "code",
      "source": [
        "def tracker():\n",
        "  # run tracking UI in the background\n",
        "  get_ipython().system_raw(\"mlflow ui --port 5000 &\")\n",
        "  from pyngrok import ngrok\n",
        "\n",
        "  # Terminate open tunnels if exist\n",
        "  ngrok.kill()\n",
        "\n",
        "  # Setting the authtoken (optional)\n",
        "  NGROK_AUTH_TOKEN = \"2e2sfIlj3qAvaM0F540Nv6j28RY_4zpiTmLho7K4dBjWbfRU\"\n",
        "  ngrok.set_auth_token(NGROK_AUTH_TOKEN)\n",
        "\n",
        "  # Open an HTTPs tunnel on port 5000 for http://localhost:5000\n",
        "  ngrok_tunnel = ngrok.connect(addr=\"5000\", proto=\"http\", bind_tls=True)\n",
        "  print(\"MLflow Tracking UI:\", ngrok_tunnel.public_url)"
      ],
      "metadata": {
        "id": "tXUgJ3HtpbGV"
      },
      "execution_count": 38,
      "outputs": []
    },
    {
      "cell_type": "code",
      "execution_count": 39,
      "metadata": {
        "id": "1UkYURUU26NS"
      },
      "outputs": [],
      "source": [
        "\n",
        "def evaluate_model(pipeline, X_test, y_test, mlb):\n",
        "    \"\"\"\n",
        "    Evaluate the model using the provided pipeline and test data.\n",
        "\n",
        "    Parameters:\n",
        "        pipeline: Fitted scikit-learn pipeline containing the model.\n",
        "        X_test: Test features.\n",
        "        y_test: True labels for the test set.\n",
        "        mlb: Fitted label encoder used for transforming labels.\n",
        "\n",
        "    Returns:\n",
        "        None\n",
        "    \"\"\"\n",
        "    # Predictions on the test set\n",
        "    y_pred = pipeline.predict(X_test)\n",
        "\n",
        "    # Calculate evaluation metrics\n",
        "    accuracy = accuracy_score(y_test, y_pred)\n",
        "    precision = precision_score(y_test, y_pred, average='weighted')\n",
        "    recall = recall_score(y_test, y_pred, average='weighted')\n",
        "    f1 = f1_score(y_test, y_pred, average='weighted')\n",
        "\n",
        "    # Print evaluation metrics\n",
        "    print(\"Accuracy:\", accuracy)\n",
        "    print(\"Precision:\", precision)\n",
        "    print(\"Recall:\", recall)\n",
        "    print(\"F1-score:\", f1)\n",
        "\n",
        "    # Créer la matrice de confusion\n",
        "    conf_matrix = confusion_matrix(y_test, y_pred)\n",
        "\n",
        "    # Afficher la matrice de confusion\n",
        "    plt.figure(figsize=(10,8))\n",
        "    sns.heatmap(conf_matrix, annot=True, fmt='d', cmap='Blues', xticklabels=pipeline.classes_, yticklabels=pipeline.classes_)\n",
        "    plt.xlabel('Predicted Labels')\n",
        "    plt.ylabel('True Labels')\n",
        "    plt.title('Confusion Matrix')\n",
        "    plt.show()"
      ]
    },
    {
      "cell_type": "markdown",
      "metadata": {
        "id": "OegBQugn27w3"
      },
      "source": [
        "## **Importation des données**"
      ]
    },
    {
      "cell_type": "code",
      "execution_count": 40,
      "metadata": {
        "colab": {
          "base_uri": "https://localhost:8080/"
        },
        "id": "cO0W2IDVttZZ",
        "outputId": "dd60fd73-855f-4cc2-e412-7dab4f296ad5"
      },
      "outputs": [
        {
          "output_type": "stream",
          "name": "stdout",
          "text": [
            "Drive already mounted at /content/drive; to attempt to forcibly remount, call drive.mount(\"/content/drive\", force_remount=True).\n"
          ]
        }
      ],
      "source": [
        "from google.colab import drive\n",
        "drive.mount('/content/drive')"
      ]
    },
    {
      "cell_type": "code",
      "execution_count": 41,
      "metadata": {
        "colab": {
          "base_uri": "https://localhost:8080/",
          "height": 580
        },
        "id": "2U7sDObVsOvc",
        "outputId": "17e2477a-6e66-42d0-b342-4ca18f2ce695"
      },
      "outputs": [
        {
          "output_type": "execute_result",
          "data": {
            "text/plain": [
              "                                                   Title  \\\n",
              "0       minification failed returning unminified content   \n",
              "1                             ajax request made flux app   \n",
              "2                             gem install debugger error   \n",
              "3                      change body parser limit firebase   \n",
              "4      io android material design hierarchical timing...   \n",
              "...                                                  ...   \n",
              "49995                           make toolbar grid layout   \n",
              "49996  using jmslistener multiple payload type destin...   \n",
              "49997                testing resolved data test ngoninit   \n",
              "49998            unit test project reference mvc project   \n",
              "49999  hyperledger fabric ownership orderer organization   \n",
              "\n",
              "                                                    Body  \\\n",
              "0      made first website using mvc work fine local m...   \n",
              "1      creating react application flux architecture t...   \n",
              "2      running rail mac everything smoothly sudden ge...   \n",
              "3      trying proxy file upload firebase cloud functi...   \n",
              "4      want animation introduced android material des...   \n",
              "...                                                  ...   \n",
              "49995  want make qtoolbar column button docked left s...   \n",
              "49996  write instance multiple type given destination...   \n",
              "49997  working testing guide wish write test ngoninit...   \n",
              "49998  perhaps easier let visual studio create unit t...   \n",
              "49999  according example logically minimum organizati...   \n",
              "\n",
              "                                                    Tags        Id  Score  \\\n",
              "0        |asp.net|asp.net-mvc|bundling-and-minification|  24395412     40   \n",
              "1                      |javascript|reactjs|reactjs-flux|  26632415    199   \n",
              "2                      |ruby-on-rails|ruby|rubygems|rvm|  24395453     25   \n",
              "3      |node.js|express|firebase|google-cloud-functio...  45489810      7   \n",
              "4         |ios|uicollectionview|calayer|material-design|  26632893     11   \n",
              "...                                                  ...       ...    ...   \n",
              "49995                                       |c++|qt|qt5|  23638595      7   \n",
              "49996                       |java|spring|jms|spring-jms|  42656519      6   \n",
              "49997  |javascript|angular|jasmine|karma-runner|resol...  42656045     34   \n",
              "49998    |unit-testing|visual-studio-2013|asp.net-mvc-5|  23638602     10   \n",
              "49999                               |hyperledger-fabric|  61823686      6   \n",
              "\n",
              "       ViewCount  FavoriteCount  AnswerCount  \n",
              "0          49177            0.0           12  \n",
              "1          40698            0.0            6  \n",
              "2          28278            0.0            6  \n",
              "3            946            NaN            1  \n",
              "4            895            0.0            3  \n",
              "...          ...            ...          ...  \n",
              "49995       2137            NaN            1  \n",
              "49996       6453            0.0            3  \n",
              "49997      67797            0.0            2  \n",
              "49998       7610            0.0            4  \n",
              "49999       1025            0.0            1  \n",
              "\n",
              "[50000 rows x 8 columns]"
            ],
            "text/html": [
              "\n",
              "  <div id=\"df-0fad9049-34f5-4413-918a-a591432ab05d\" class=\"colab-df-container\">\n",
              "    <div>\n",
              "<style scoped>\n",
              "    .dataframe tbody tr th:only-of-type {\n",
              "        vertical-align: middle;\n",
              "    }\n",
              "\n",
              "    .dataframe tbody tr th {\n",
              "        vertical-align: top;\n",
              "    }\n",
              "\n",
              "    .dataframe thead th {\n",
              "        text-align: right;\n",
              "    }\n",
              "</style>\n",
              "<table border=\"1\" class=\"dataframe\">\n",
              "  <thead>\n",
              "    <tr style=\"text-align: right;\">\n",
              "      <th></th>\n",
              "      <th>Title</th>\n",
              "      <th>Body</th>\n",
              "      <th>Tags</th>\n",
              "      <th>Id</th>\n",
              "      <th>Score</th>\n",
              "      <th>ViewCount</th>\n",
              "      <th>FavoriteCount</th>\n",
              "      <th>AnswerCount</th>\n",
              "    </tr>\n",
              "  </thead>\n",
              "  <tbody>\n",
              "    <tr>\n",
              "      <th>0</th>\n",
              "      <td>minification failed returning unminified content</td>\n",
              "      <td>made first website using mvc work fine local m...</td>\n",
              "      <td>|asp.net|asp.net-mvc|bundling-and-minification|</td>\n",
              "      <td>24395412</td>\n",
              "      <td>40</td>\n",
              "      <td>49177</td>\n",
              "      <td>0.0</td>\n",
              "      <td>12</td>\n",
              "    </tr>\n",
              "    <tr>\n",
              "      <th>1</th>\n",
              "      <td>ajax request made flux app</td>\n",
              "      <td>creating react application flux architecture t...</td>\n",
              "      <td>|javascript|reactjs|reactjs-flux|</td>\n",
              "      <td>26632415</td>\n",
              "      <td>199</td>\n",
              "      <td>40698</td>\n",
              "      <td>0.0</td>\n",
              "      <td>6</td>\n",
              "    </tr>\n",
              "    <tr>\n",
              "      <th>2</th>\n",
              "      <td>gem install debugger error</td>\n",
              "      <td>running rail mac everything smoothly sudden ge...</td>\n",
              "      <td>|ruby-on-rails|ruby|rubygems|rvm|</td>\n",
              "      <td>24395453</td>\n",
              "      <td>25</td>\n",
              "      <td>28278</td>\n",
              "      <td>0.0</td>\n",
              "      <td>6</td>\n",
              "    </tr>\n",
              "    <tr>\n",
              "      <th>3</th>\n",
              "      <td>change body parser limit firebase</td>\n",
              "      <td>trying proxy file upload firebase cloud functi...</td>\n",
              "      <td>|node.js|express|firebase|google-cloud-functio...</td>\n",
              "      <td>45489810</td>\n",
              "      <td>7</td>\n",
              "      <td>946</td>\n",
              "      <td>NaN</td>\n",
              "      <td>1</td>\n",
              "    </tr>\n",
              "    <tr>\n",
              "      <th>4</th>\n",
              "      <td>io android material design hierarchical timing...</td>\n",
              "      <td>want animation introduced android material des...</td>\n",
              "      <td>|ios|uicollectionview|calayer|material-design|</td>\n",
              "      <td>26632893</td>\n",
              "      <td>11</td>\n",
              "      <td>895</td>\n",
              "      <td>0.0</td>\n",
              "      <td>3</td>\n",
              "    </tr>\n",
              "    <tr>\n",
              "      <th>...</th>\n",
              "      <td>...</td>\n",
              "      <td>...</td>\n",
              "      <td>...</td>\n",
              "      <td>...</td>\n",
              "      <td>...</td>\n",
              "      <td>...</td>\n",
              "      <td>...</td>\n",
              "      <td>...</td>\n",
              "    </tr>\n",
              "    <tr>\n",
              "      <th>49995</th>\n",
              "      <td>make toolbar grid layout</td>\n",
              "      <td>want make qtoolbar column button docked left s...</td>\n",
              "      <td>|c++|qt|qt5|</td>\n",
              "      <td>23638595</td>\n",
              "      <td>7</td>\n",
              "      <td>2137</td>\n",
              "      <td>NaN</td>\n",
              "      <td>1</td>\n",
              "    </tr>\n",
              "    <tr>\n",
              "      <th>49996</th>\n",
              "      <td>using jmslistener multiple payload type destin...</td>\n",
              "      <td>write instance multiple type given destination...</td>\n",
              "      <td>|java|spring|jms|spring-jms|</td>\n",
              "      <td>42656519</td>\n",
              "      <td>6</td>\n",
              "      <td>6453</td>\n",
              "      <td>0.0</td>\n",
              "      <td>3</td>\n",
              "    </tr>\n",
              "    <tr>\n",
              "      <th>49997</th>\n",
              "      <td>testing resolved data test ngoninit</td>\n",
              "      <td>working testing guide wish write test ngoninit...</td>\n",
              "      <td>|javascript|angular|jasmine|karma-runner|resol...</td>\n",
              "      <td>42656045</td>\n",
              "      <td>34</td>\n",
              "      <td>67797</td>\n",
              "      <td>0.0</td>\n",
              "      <td>2</td>\n",
              "    </tr>\n",
              "    <tr>\n",
              "      <th>49998</th>\n",
              "      <td>unit test project reference mvc project</td>\n",
              "      <td>perhaps easier let visual studio create unit t...</td>\n",
              "      <td>|unit-testing|visual-studio-2013|asp.net-mvc-5|</td>\n",
              "      <td>23638602</td>\n",
              "      <td>10</td>\n",
              "      <td>7610</td>\n",
              "      <td>0.0</td>\n",
              "      <td>4</td>\n",
              "    </tr>\n",
              "    <tr>\n",
              "      <th>49999</th>\n",
              "      <td>hyperledger fabric ownership orderer organization</td>\n",
              "      <td>according example logically minimum organizati...</td>\n",
              "      <td>|hyperledger-fabric|</td>\n",
              "      <td>61823686</td>\n",
              "      <td>6</td>\n",
              "      <td>1025</td>\n",
              "      <td>0.0</td>\n",
              "      <td>1</td>\n",
              "    </tr>\n",
              "  </tbody>\n",
              "</table>\n",
              "<p>50000 rows × 8 columns</p>\n",
              "</div>\n",
              "    <div class=\"colab-df-buttons\">\n",
              "\n",
              "  <div class=\"colab-df-container\">\n",
              "    <button class=\"colab-df-convert\" onclick=\"convertToInteractive('df-0fad9049-34f5-4413-918a-a591432ab05d')\"\n",
              "            title=\"Convert this dataframe to an interactive table.\"\n",
              "            style=\"display:none;\">\n",
              "\n",
              "  <svg xmlns=\"http://www.w3.org/2000/svg\" height=\"24px\" viewBox=\"0 -960 960 960\">\n",
              "    <path d=\"M120-120v-720h720v720H120Zm60-500h600v-160H180v160Zm220 220h160v-160H400v160Zm0 220h160v-160H400v160ZM180-400h160v-160H180v160Zm440 0h160v-160H620v160ZM180-180h160v-160H180v160Zm440 0h160v-160H620v160Z\"/>\n",
              "  </svg>\n",
              "    </button>\n",
              "\n",
              "  <style>\n",
              "    .colab-df-container {\n",
              "      display:flex;\n",
              "      gap: 12px;\n",
              "    }\n",
              "\n",
              "    .colab-df-convert {\n",
              "      background-color: #E8F0FE;\n",
              "      border: none;\n",
              "      border-radius: 50%;\n",
              "      cursor: pointer;\n",
              "      display: none;\n",
              "      fill: #1967D2;\n",
              "      height: 32px;\n",
              "      padding: 0 0 0 0;\n",
              "      width: 32px;\n",
              "    }\n",
              "\n",
              "    .colab-df-convert:hover {\n",
              "      background-color: #E2EBFA;\n",
              "      box-shadow: 0px 1px 2px rgba(60, 64, 67, 0.3), 0px 1px 3px 1px rgba(60, 64, 67, 0.15);\n",
              "      fill: #174EA6;\n",
              "    }\n",
              "\n",
              "    .colab-df-buttons div {\n",
              "      margin-bottom: 4px;\n",
              "    }\n",
              "\n",
              "    [theme=dark] .colab-df-convert {\n",
              "      background-color: #3B4455;\n",
              "      fill: #D2E3FC;\n",
              "    }\n",
              "\n",
              "    [theme=dark] .colab-df-convert:hover {\n",
              "      background-color: #434B5C;\n",
              "      box-shadow: 0px 1px 3px 1px rgba(0, 0, 0, 0.15);\n",
              "      filter: drop-shadow(0px 1px 2px rgba(0, 0, 0, 0.3));\n",
              "      fill: #FFFFFF;\n",
              "    }\n",
              "  </style>\n",
              "\n",
              "    <script>\n",
              "      const buttonEl =\n",
              "        document.querySelector('#df-0fad9049-34f5-4413-918a-a591432ab05d button.colab-df-convert');\n",
              "      buttonEl.style.display =\n",
              "        google.colab.kernel.accessAllowed ? 'block' : 'none';\n",
              "\n",
              "      async function convertToInteractive(key) {\n",
              "        const element = document.querySelector('#df-0fad9049-34f5-4413-918a-a591432ab05d');\n",
              "        const dataTable =\n",
              "          await google.colab.kernel.invokeFunction('convertToInteractive',\n",
              "                                                    [key], {});\n",
              "        if (!dataTable) return;\n",
              "\n",
              "        const docLinkHtml = 'Like what you see? Visit the ' +\n",
              "          '<a target=\"_blank\" href=https://colab.research.google.com/notebooks/data_table.ipynb>data table notebook</a>'\n",
              "          + ' to learn more about interactive tables.';\n",
              "        element.innerHTML = '';\n",
              "        dataTable['output_type'] = 'display_data';\n",
              "        await google.colab.output.renderOutput(dataTable, element);\n",
              "        const docLink = document.createElement('div');\n",
              "        docLink.innerHTML = docLinkHtml;\n",
              "        element.appendChild(docLink);\n",
              "      }\n",
              "    </script>\n",
              "  </div>\n",
              "\n",
              "\n",
              "<div id=\"df-8f623d21-d245-478a-adcb-bc9a56f5adae\">\n",
              "  <button class=\"colab-df-quickchart\" onclick=\"quickchart('df-8f623d21-d245-478a-adcb-bc9a56f5adae')\"\n",
              "            title=\"Suggest charts\"\n",
              "            style=\"display:none;\">\n",
              "\n",
              "<svg xmlns=\"http://www.w3.org/2000/svg\" height=\"24px\"viewBox=\"0 0 24 24\"\n",
              "     width=\"24px\">\n",
              "    <g>\n",
              "        <path d=\"M19 3H5c-1.1 0-2 .9-2 2v14c0 1.1.9 2 2 2h14c1.1 0 2-.9 2-2V5c0-1.1-.9-2-2-2zM9 17H7v-7h2v7zm4 0h-2V7h2v10zm4 0h-2v-4h2v4z\"/>\n",
              "    </g>\n",
              "</svg>\n",
              "  </button>\n",
              "\n",
              "<style>\n",
              "  .colab-df-quickchart {\n",
              "      --bg-color: #E8F0FE;\n",
              "      --fill-color: #1967D2;\n",
              "      --hover-bg-color: #E2EBFA;\n",
              "      --hover-fill-color: #174EA6;\n",
              "      --disabled-fill-color: #AAA;\n",
              "      --disabled-bg-color: #DDD;\n",
              "  }\n",
              "\n",
              "  [theme=dark] .colab-df-quickchart {\n",
              "      --bg-color: #3B4455;\n",
              "      --fill-color: #D2E3FC;\n",
              "      --hover-bg-color: #434B5C;\n",
              "      --hover-fill-color: #FFFFFF;\n",
              "      --disabled-bg-color: #3B4455;\n",
              "      --disabled-fill-color: #666;\n",
              "  }\n",
              "\n",
              "  .colab-df-quickchart {\n",
              "    background-color: var(--bg-color);\n",
              "    border: none;\n",
              "    border-radius: 50%;\n",
              "    cursor: pointer;\n",
              "    display: none;\n",
              "    fill: var(--fill-color);\n",
              "    height: 32px;\n",
              "    padding: 0;\n",
              "    width: 32px;\n",
              "  }\n",
              "\n",
              "  .colab-df-quickchart:hover {\n",
              "    background-color: var(--hover-bg-color);\n",
              "    box-shadow: 0 1px 2px rgba(60, 64, 67, 0.3), 0 1px 3px 1px rgba(60, 64, 67, 0.15);\n",
              "    fill: var(--button-hover-fill-color);\n",
              "  }\n",
              "\n",
              "  .colab-df-quickchart-complete:disabled,\n",
              "  .colab-df-quickchart-complete:disabled:hover {\n",
              "    background-color: var(--disabled-bg-color);\n",
              "    fill: var(--disabled-fill-color);\n",
              "    box-shadow: none;\n",
              "  }\n",
              "\n",
              "  .colab-df-spinner {\n",
              "    border: 2px solid var(--fill-color);\n",
              "    border-color: transparent;\n",
              "    border-bottom-color: var(--fill-color);\n",
              "    animation:\n",
              "      spin 1s steps(1) infinite;\n",
              "  }\n",
              "\n",
              "  @keyframes spin {\n",
              "    0% {\n",
              "      border-color: transparent;\n",
              "      border-bottom-color: var(--fill-color);\n",
              "      border-left-color: var(--fill-color);\n",
              "    }\n",
              "    20% {\n",
              "      border-color: transparent;\n",
              "      border-left-color: var(--fill-color);\n",
              "      border-top-color: var(--fill-color);\n",
              "    }\n",
              "    30% {\n",
              "      border-color: transparent;\n",
              "      border-left-color: var(--fill-color);\n",
              "      border-top-color: var(--fill-color);\n",
              "      border-right-color: var(--fill-color);\n",
              "    }\n",
              "    40% {\n",
              "      border-color: transparent;\n",
              "      border-right-color: var(--fill-color);\n",
              "      border-top-color: var(--fill-color);\n",
              "    }\n",
              "    60% {\n",
              "      border-color: transparent;\n",
              "      border-right-color: var(--fill-color);\n",
              "    }\n",
              "    80% {\n",
              "      border-color: transparent;\n",
              "      border-right-color: var(--fill-color);\n",
              "      border-bottom-color: var(--fill-color);\n",
              "    }\n",
              "    90% {\n",
              "      border-color: transparent;\n",
              "      border-bottom-color: var(--fill-color);\n",
              "    }\n",
              "  }\n",
              "</style>\n",
              "\n",
              "  <script>\n",
              "    async function quickchart(key) {\n",
              "      const quickchartButtonEl =\n",
              "        document.querySelector('#' + key + ' button');\n",
              "      quickchartButtonEl.disabled = true;  // To prevent multiple clicks.\n",
              "      quickchartButtonEl.classList.add('colab-df-spinner');\n",
              "      try {\n",
              "        const charts = await google.colab.kernel.invokeFunction(\n",
              "            'suggestCharts', [key], {});\n",
              "      } catch (error) {\n",
              "        console.error('Error during call to suggestCharts:', error);\n",
              "      }\n",
              "      quickchartButtonEl.classList.remove('colab-df-spinner');\n",
              "      quickchartButtonEl.classList.add('colab-df-quickchart-complete');\n",
              "    }\n",
              "    (() => {\n",
              "      let quickchartButtonEl =\n",
              "        document.querySelector('#df-8f623d21-d245-478a-adcb-bc9a56f5adae button');\n",
              "      quickchartButtonEl.style.display =\n",
              "        google.colab.kernel.accessAllowed ? 'block' : 'none';\n",
              "    })();\n",
              "  </script>\n",
              "</div>\n",
              "    </div>\n",
              "  </div>\n"
            ],
            "application/vnd.google.colaboratory.intrinsic+json": {
              "type": "dataframe",
              "variable_name": "df",
              "summary": "{\n  \"name\": \"df\",\n  \"rows\": 50000,\n  \"fields\": [\n    {\n      \"column\": \"Title\",\n      \"properties\": {\n        \"dtype\": \"string\",\n        \"num_unique_values\": 49905,\n        \"samples\": [\n          \"type program best written\",\n          \"writing file string rust\",\n          \"fill whole line using cs\"\n        ],\n        \"semantic_type\": \"\",\n        \"description\": \"\"\n      }\n    },\n    {\n      \"column\": \"Body\",\n      \"properties\": {\n        \"dtype\": \"string\",\n        \"num_unique_values\": 50000,\n        \"samples\": [\n          \"trying figure causing cannot perform runtime binding null reference error code var query select username loggedin aspnetusers loggedin order asc var conn new sqlconnection system configuration configurationmanager connectionstrings defaultconnection connectionstring var cmd new sqlcommand query conn conn open var rdr cmd executereader var rdr read convert tostring rdr username null viewbag speaker new string convert tostring rdr convert tostring rdr username convert tostring rdr convert tostring rdr loggedin exception detail microsoft csharp runtimebinder runtimebinderexception cannot perform runtime binding null reference increment seems cause error understand updated code reflect possible solution however error still remains tried result string isnullorwhitespace convert tostring rdr username list string speaker new list string speaker add convert tostring rdr speaker add convert tostring rdr username speaker add convert tostring rdr speaker add convert tostring rdr loggedin viewbag speaker speaker\",\n          \"view model viewmodel pattern wpf trying databind height width various definition grid control store value user set using gridsplitter however normal pattern seem work particular property note posting reference question posting google failed work answer follow\",\n          \"want implement trait std write output memory buffer ideally string unit testing purpose must missing something simple similar another question writing file stdout rust working code work std write implementation operates structure defined like pub struct mystructure writer box dyn write easy create instance writing either file stdout impl mystructure pub self let writer box new std stdout mystructure writer pub asref path path result self let writer box new file create path mystructure writer pub printit mut self result self writer write hello unit testing also need way run business logic represented method printit trap output content checked test cannot figure implement playground code show would like use compile break borrowing rule invalid code compile main let mut buf vec new buffer receive output let mut mystructure writer box new buf printit unwrap get collected output let output std str buf unwrap want analyze output instance unit test asserts println output string output idea write code correctly implement writer top memory structure string vec accessed afterwards\"\n        ],\n        \"semantic_type\": \"\",\n        \"description\": \"\"\n      }\n    },\n    {\n      \"column\": \"Tags\",\n      \"properties\": {\n        \"dtype\": \"string\",\n        \"num_unique_values\": 39393,\n        \"samples\": [\n          \"|java|memory-management|garbage-collection|jvm|heap-memory|\",\n          \"|iphone|cocoa-touch|landscape|\",\n          \"|c#|wpf|mvvm|expander|\"\n        ],\n        \"semantic_type\": \"\",\n        \"description\": \"\"\n      }\n    },\n    {\n      \"column\": \"Id\",\n      \"properties\": {\n        \"dtype\": \"number\",\n        \"std\": 19081434,\n        \"min\": 4,\n        \"max\": 66017188,\n        \"num_unique_values\": 50000,\n        \"samples\": [\n          40531522,\n          147908,\n          63024483\n        ],\n        \"semantic_type\": \"\",\n        \"description\": \"\"\n      }\n    },\n    {\n      \"column\": \"Score\",\n      \"properties\": {\n        \"dtype\": \"number\",\n        \"std\": 169,\n        \"min\": 6,\n        \"max\": 11317,\n        \"num_unique_values\": 805,\n        \"samples\": [\n          236,\n          529,\n          164\n        ],\n        \"semantic_type\": \"\",\n        \"description\": \"\"\n      }\n    },\n    {\n      \"column\": \"ViewCount\",\n      \"properties\": {\n        \"dtype\": \"number\",\n        \"std\": 137149,\n        \"min\": 30,\n        \"max\": 6047409,\n        \"num_unique_values\": 30183,\n        \"samples\": [\n          47208,\n          1785,\n          20619\n        ],\n        \"semantic_type\": \"\",\n        \"description\": \"\"\n      }\n    },\n    {\n      \"column\": \"FavoriteCount\",\n      \"properties\": {\n        \"dtype\": \"number\",\n        \"std\": 1.093287590924501,\n        \"min\": 0.0,\n        \"max\": 225.0,\n        \"num_unique_values\": 3,\n        \"samples\": [\n          0.0,\n          225.0,\n          1.0\n        ],\n        \"semantic_type\": \"\",\n        \"description\": \"\"\n      }\n    },\n    {\n      \"column\": \"AnswerCount\",\n      \"properties\": {\n        \"dtype\": \"number\",\n        \"std\": 5,\n        \"min\": 1,\n        \"max\": 296,\n        \"num_unique_values\": 80,\n        \"samples\": [\n          25,\n          12,\n          26\n        ],\n        \"semantic_type\": \"\",\n        \"description\": \"\"\n      }\n    }\n  ]\n}"
            }
          },
          "metadata": {},
          "execution_count": 41
        }
      ],
      "source": [
        "df = pd.read_csv(\"/content/drive/MyDrive/Projet 5/my_data.csv\")\n",
        "\n",
        "df"
      ]
    },
    {
      "cell_type": "code",
      "execution_count": 42,
      "metadata": {
        "colab": {
          "base_uri": "https://localhost:8080/"
        },
        "id": "6nI_jNCmusF4",
        "outputId": "48d6a38c-c7d3-4c49-bd43-e7054e2f0d3b"
      },
      "outputs": [
        {
          "output_type": "execute_result",
          "data": {
            "text/plain": [
              "Title              26\n",
              "Body                0\n",
              "Tags                0\n",
              "Id                  0\n",
              "Score               0\n",
              "ViewCount           0\n",
              "FavoriteCount    7645\n",
              "AnswerCount         0\n",
              "dtype: int64"
            ]
          },
          "metadata": {},
          "execution_count": 42
        }
      ],
      "source": [
        "df.isnull().sum()"
      ]
    },
    {
      "cell_type": "code",
      "execution_count": 43,
      "metadata": {
        "id": "nyg16khmv15e"
      },
      "outputs": [],
      "source": [
        "df.fillna('', inplace=True)\n",
        "data = df.copy()"
      ]
    },
    {
      "cell_type": "code",
      "execution_count": 44,
      "metadata": {
        "colab": {
          "base_uri": "https://localhost:8080/",
          "height": 580
        },
        "id": "k5AnFsrXuq9k",
        "outputId": "562cca8d-2b1f-456a-81f1-d518677ba252"
      },
      "outputs": [
        {
          "output_type": "execute_result",
          "data": {
            "text/plain": [
              "                                                   Title  \\\n",
              "0       minification failed returning unminified content   \n",
              "1                             ajax request made flux app   \n",
              "2                             gem install debugger error   \n",
              "3                      change body parser limit firebase   \n",
              "4      io android material design hierarchical timing...   \n",
              "...                                                  ...   \n",
              "49995                           make toolbar grid layout   \n",
              "49996  using jmslistener multiple payload type destin...   \n",
              "49997                testing resolved data test ngoninit   \n",
              "49998            unit test project reference mvc project   \n",
              "49999  hyperledger fabric ownership orderer organization   \n",
              "\n",
              "                                                    Body  \\\n",
              "0      made first website using mvc work fine local m...   \n",
              "1      creating react application flux architecture t...   \n",
              "2      running rail mac everything smoothly sudden ge...   \n",
              "3      trying proxy file upload firebase cloud functi...   \n",
              "4      want animation introduced android material des...   \n",
              "...                                                  ...   \n",
              "49995  want make qtoolbar column button docked left s...   \n",
              "49996  write instance multiple type given destination...   \n",
              "49997  working testing guide wish write test ngoninit...   \n",
              "49998  perhaps easier let visual studio create unit t...   \n",
              "49999  according example logically minimum organizati...   \n",
              "\n",
              "                                                    Tags        Id  Score  \\\n",
              "0        |asp.net|asp.net-mvc|bundling-and-minification|  24395412     40   \n",
              "1                      |javascript|reactjs|reactjs-flux|  26632415    199   \n",
              "2                      |ruby-on-rails|ruby|rubygems|rvm|  24395453     25   \n",
              "3      |node.js|express|firebase|google-cloud-functio...  45489810      7   \n",
              "4         |ios|uicollectionview|calayer|material-design|  26632893     11   \n",
              "...                                                  ...       ...    ...   \n",
              "49995                                       |c++|qt|qt5|  23638595      7   \n",
              "49996                       |java|spring|jms|spring-jms|  42656519      6   \n",
              "49997  |javascript|angular|jasmine|karma-runner|resol...  42656045     34   \n",
              "49998    |unit-testing|visual-studio-2013|asp.net-mvc-5|  23638602     10   \n",
              "49999                               |hyperledger-fabric|  61823686      6   \n",
              "\n",
              "       ViewCount FavoriteCount  AnswerCount  \n",
              "0          49177           0.0           12  \n",
              "1          40698           0.0            6  \n",
              "2          28278           0.0            6  \n",
              "3            946                          1  \n",
              "4            895           0.0            3  \n",
              "...          ...           ...          ...  \n",
              "49995       2137                          1  \n",
              "49996       6453           0.0            3  \n",
              "49997      67797           0.0            2  \n",
              "49998       7610           0.0            4  \n",
              "49999       1025           0.0            1  \n",
              "\n",
              "[50000 rows x 8 columns]"
            ],
            "text/html": [
              "\n",
              "  <div id=\"df-311e9421-011e-44c1-8b96-3c8cfdb0cc10\" class=\"colab-df-container\">\n",
              "    <div>\n",
              "<style scoped>\n",
              "    .dataframe tbody tr th:only-of-type {\n",
              "        vertical-align: middle;\n",
              "    }\n",
              "\n",
              "    .dataframe tbody tr th {\n",
              "        vertical-align: top;\n",
              "    }\n",
              "\n",
              "    .dataframe thead th {\n",
              "        text-align: right;\n",
              "    }\n",
              "</style>\n",
              "<table border=\"1\" class=\"dataframe\">\n",
              "  <thead>\n",
              "    <tr style=\"text-align: right;\">\n",
              "      <th></th>\n",
              "      <th>Title</th>\n",
              "      <th>Body</th>\n",
              "      <th>Tags</th>\n",
              "      <th>Id</th>\n",
              "      <th>Score</th>\n",
              "      <th>ViewCount</th>\n",
              "      <th>FavoriteCount</th>\n",
              "      <th>AnswerCount</th>\n",
              "    </tr>\n",
              "  </thead>\n",
              "  <tbody>\n",
              "    <tr>\n",
              "      <th>0</th>\n",
              "      <td>minification failed returning unminified content</td>\n",
              "      <td>made first website using mvc work fine local m...</td>\n",
              "      <td>|asp.net|asp.net-mvc|bundling-and-minification|</td>\n",
              "      <td>24395412</td>\n",
              "      <td>40</td>\n",
              "      <td>49177</td>\n",
              "      <td>0.0</td>\n",
              "      <td>12</td>\n",
              "    </tr>\n",
              "    <tr>\n",
              "      <th>1</th>\n",
              "      <td>ajax request made flux app</td>\n",
              "      <td>creating react application flux architecture t...</td>\n",
              "      <td>|javascript|reactjs|reactjs-flux|</td>\n",
              "      <td>26632415</td>\n",
              "      <td>199</td>\n",
              "      <td>40698</td>\n",
              "      <td>0.0</td>\n",
              "      <td>6</td>\n",
              "    </tr>\n",
              "    <tr>\n",
              "      <th>2</th>\n",
              "      <td>gem install debugger error</td>\n",
              "      <td>running rail mac everything smoothly sudden ge...</td>\n",
              "      <td>|ruby-on-rails|ruby|rubygems|rvm|</td>\n",
              "      <td>24395453</td>\n",
              "      <td>25</td>\n",
              "      <td>28278</td>\n",
              "      <td>0.0</td>\n",
              "      <td>6</td>\n",
              "    </tr>\n",
              "    <tr>\n",
              "      <th>3</th>\n",
              "      <td>change body parser limit firebase</td>\n",
              "      <td>trying proxy file upload firebase cloud functi...</td>\n",
              "      <td>|node.js|express|firebase|google-cloud-functio...</td>\n",
              "      <td>45489810</td>\n",
              "      <td>7</td>\n",
              "      <td>946</td>\n",
              "      <td></td>\n",
              "      <td>1</td>\n",
              "    </tr>\n",
              "    <tr>\n",
              "      <th>4</th>\n",
              "      <td>io android material design hierarchical timing...</td>\n",
              "      <td>want animation introduced android material des...</td>\n",
              "      <td>|ios|uicollectionview|calayer|material-design|</td>\n",
              "      <td>26632893</td>\n",
              "      <td>11</td>\n",
              "      <td>895</td>\n",
              "      <td>0.0</td>\n",
              "      <td>3</td>\n",
              "    </tr>\n",
              "    <tr>\n",
              "      <th>...</th>\n",
              "      <td>...</td>\n",
              "      <td>...</td>\n",
              "      <td>...</td>\n",
              "      <td>...</td>\n",
              "      <td>...</td>\n",
              "      <td>...</td>\n",
              "      <td>...</td>\n",
              "      <td>...</td>\n",
              "    </tr>\n",
              "    <tr>\n",
              "      <th>49995</th>\n",
              "      <td>make toolbar grid layout</td>\n",
              "      <td>want make qtoolbar column button docked left s...</td>\n",
              "      <td>|c++|qt|qt5|</td>\n",
              "      <td>23638595</td>\n",
              "      <td>7</td>\n",
              "      <td>2137</td>\n",
              "      <td></td>\n",
              "      <td>1</td>\n",
              "    </tr>\n",
              "    <tr>\n",
              "      <th>49996</th>\n",
              "      <td>using jmslistener multiple payload type destin...</td>\n",
              "      <td>write instance multiple type given destination...</td>\n",
              "      <td>|java|spring|jms|spring-jms|</td>\n",
              "      <td>42656519</td>\n",
              "      <td>6</td>\n",
              "      <td>6453</td>\n",
              "      <td>0.0</td>\n",
              "      <td>3</td>\n",
              "    </tr>\n",
              "    <tr>\n",
              "      <th>49997</th>\n",
              "      <td>testing resolved data test ngoninit</td>\n",
              "      <td>working testing guide wish write test ngoninit...</td>\n",
              "      <td>|javascript|angular|jasmine|karma-runner|resol...</td>\n",
              "      <td>42656045</td>\n",
              "      <td>34</td>\n",
              "      <td>67797</td>\n",
              "      <td>0.0</td>\n",
              "      <td>2</td>\n",
              "    </tr>\n",
              "    <tr>\n",
              "      <th>49998</th>\n",
              "      <td>unit test project reference mvc project</td>\n",
              "      <td>perhaps easier let visual studio create unit t...</td>\n",
              "      <td>|unit-testing|visual-studio-2013|asp.net-mvc-5|</td>\n",
              "      <td>23638602</td>\n",
              "      <td>10</td>\n",
              "      <td>7610</td>\n",
              "      <td>0.0</td>\n",
              "      <td>4</td>\n",
              "    </tr>\n",
              "    <tr>\n",
              "      <th>49999</th>\n",
              "      <td>hyperledger fabric ownership orderer organization</td>\n",
              "      <td>according example logically minimum organizati...</td>\n",
              "      <td>|hyperledger-fabric|</td>\n",
              "      <td>61823686</td>\n",
              "      <td>6</td>\n",
              "      <td>1025</td>\n",
              "      <td>0.0</td>\n",
              "      <td>1</td>\n",
              "    </tr>\n",
              "  </tbody>\n",
              "</table>\n",
              "<p>50000 rows × 8 columns</p>\n",
              "</div>\n",
              "    <div class=\"colab-df-buttons\">\n",
              "\n",
              "  <div class=\"colab-df-container\">\n",
              "    <button class=\"colab-df-convert\" onclick=\"convertToInteractive('df-311e9421-011e-44c1-8b96-3c8cfdb0cc10')\"\n",
              "            title=\"Convert this dataframe to an interactive table.\"\n",
              "            style=\"display:none;\">\n",
              "\n",
              "  <svg xmlns=\"http://www.w3.org/2000/svg\" height=\"24px\" viewBox=\"0 -960 960 960\">\n",
              "    <path d=\"M120-120v-720h720v720H120Zm60-500h600v-160H180v160Zm220 220h160v-160H400v160Zm0 220h160v-160H400v160ZM180-400h160v-160H180v160Zm440 0h160v-160H620v160ZM180-180h160v-160H180v160Zm440 0h160v-160H620v160Z\"/>\n",
              "  </svg>\n",
              "    </button>\n",
              "\n",
              "  <style>\n",
              "    .colab-df-container {\n",
              "      display:flex;\n",
              "      gap: 12px;\n",
              "    }\n",
              "\n",
              "    .colab-df-convert {\n",
              "      background-color: #E8F0FE;\n",
              "      border: none;\n",
              "      border-radius: 50%;\n",
              "      cursor: pointer;\n",
              "      display: none;\n",
              "      fill: #1967D2;\n",
              "      height: 32px;\n",
              "      padding: 0 0 0 0;\n",
              "      width: 32px;\n",
              "    }\n",
              "\n",
              "    .colab-df-convert:hover {\n",
              "      background-color: #E2EBFA;\n",
              "      box-shadow: 0px 1px 2px rgba(60, 64, 67, 0.3), 0px 1px 3px 1px rgba(60, 64, 67, 0.15);\n",
              "      fill: #174EA6;\n",
              "    }\n",
              "\n",
              "    .colab-df-buttons div {\n",
              "      margin-bottom: 4px;\n",
              "    }\n",
              "\n",
              "    [theme=dark] .colab-df-convert {\n",
              "      background-color: #3B4455;\n",
              "      fill: #D2E3FC;\n",
              "    }\n",
              "\n",
              "    [theme=dark] .colab-df-convert:hover {\n",
              "      background-color: #434B5C;\n",
              "      box-shadow: 0px 1px 3px 1px rgba(0, 0, 0, 0.15);\n",
              "      filter: drop-shadow(0px 1px 2px rgba(0, 0, 0, 0.3));\n",
              "      fill: #FFFFFF;\n",
              "    }\n",
              "  </style>\n",
              "\n",
              "    <script>\n",
              "      const buttonEl =\n",
              "        document.querySelector('#df-311e9421-011e-44c1-8b96-3c8cfdb0cc10 button.colab-df-convert');\n",
              "      buttonEl.style.display =\n",
              "        google.colab.kernel.accessAllowed ? 'block' : 'none';\n",
              "\n",
              "      async function convertToInteractive(key) {\n",
              "        const element = document.querySelector('#df-311e9421-011e-44c1-8b96-3c8cfdb0cc10');\n",
              "        const dataTable =\n",
              "          await google.colab.kernel.invokeFunction('convertToInteractive',\n",
              "                                                    [key], {});\n",
              "        if (!dataTable) return;\n",
              "\n",
              "        const docLinkHtml = 'Like what you see? Visit the ' +\n",
              "          '<a target=\"_blank\" href=https://colab.research.google.com/notebooks/data_table.ipynb>data table notebook</a>'\n",
              "          + ' to learn more about interactive tables.';\n",
              "        element.innerHTML = '';\n",
              "        dataTable['output_type'] = 'display_data';\n",
              "        await google.colab.output.renderOutput(dataTable, element);\n",
              "        const docLink = document.createElement('div');\n",
              "        docLink.innerHTML = docLinkHtml;\n",
              "        element.appendChild(docLink);\n",
              "      }\n",
              "    </script>\n",
              "  </div>\n",
              "\n",
              "\n",
              "<div id=\"df-7d7394e8-3e19-4141-a269-4d3e8287943f\">\n",
              "  <button class=\"colab-df-quickchart\" onclick=\"quickchart('df-7d7394e8-3e19-4141-a269-4d3e8287943f')\"\n",
              "            title=\"Suggest charts\"\n",
              "            style=\"display:none;\">\n",
              "\n",
              "<svg xmlns=\"http://www.w3.org/2000/svg\" height=\"24px\"viewBox=\"0 0 24 24\"\n",
              "     width=\"24px\">\n",
              "    <g>\n",
              "        <path d=\"M19 3H5c-1.1 0-2 .9-2 2v14c0 1.1.9 2 2 2h14c1.1 0 2-.9 2-2V5c0-1.1-.9-2-2-2zM9 17H7v-7h2v7zm4 0h-2V7h2v10zm4 0h-2v-4h2v4z\"/>\n",
              "    </g>\n",
              "</svg>\n",
              "  </button>\n",
              "\n",
              "<style>\n",
              "  .colab-df-quickchart {\n",
              "      --bg-color: #E8F0FE;\n",
              "      --fill-color: #1967D2;\n",
              "      --hover-bg-color: #E2EBFA;\n",
              "      --hover-fill-color: #174EA6;\n",
              "      --disabled-fill-color: #AAA;\n",
              "      --disabled-bg-color: #DDD;\n",
              "  }\n",
              "\n",
              "  [theme=dark] .colab-df-quickchart {\n",
              "      --bg-color: #3B4455;\n",
              "      --fill-color: #D2E3FC;\n",
              "      --hover-bg-color: #434B5C;\n",
              "      --hover-fill-color: #FFFFFF;\n",
              "      --disabled-bg-color: #3B4455;\n",
              "      --disabled-fill-color: #666;\n",
              "  }\n",
              "\n",
              "  .colab-df-quickchart {\n",
              "    background-color: var(--bg-color);\n",
              "    border: none;\n",
              "    border-radius: 50%;\n",
              "    cursor: pointer;\n",
              "    display: none;\n",
              "    fill: var(--fill-color);\n",
              "    height: 32px;\n",
              "    padding: 0;\n",
              "    width: 32px;\n",
              "  }\n",
              "\n",
              "  .colab-df-quickchart:hover {\n",
              "    background-color: var(--hover-bg-color);\n",
              "    box-shadow: 0 1px 2px rgba(60, 64, 67, 0.3), 0 1px 3px 1px rgba(60, 64, 67, 0.15);\n",
              "    fill: var(--button-hover-fill-color);\n",
              "  }\n",
              "\n",
              "  .colab-df-quickchart-complete:disabled,\n",
              "  .colab-df-quickchart-complete:disabled:hover {\n",
              "    background-color: var(--disabled-bg-color);\n",
              "    fill: var(--disabled-fill-color);\n",
              "    box-shadow: none;\n",
              "  }\n",
              "\n",
              "  .colab-df-spinner {\n",
              "    border: 2px solid var(--fill-color);\n",
              "    border-color: transparent;\n",
              "    border-bottom-color: var(--fill-color);\n",
              "    animation:\n",
              "      spin 1s steps(1) infinite;\n",
              "  }\n",
              "\n",
              "  @keyframes spin {\n",
              "    0% {\n",
              "      border-color: transparent;\n",
              "      border-bottom-color: var(--fill-color);\n",
              "      border-left-color: var(--fill-color);\n",
              "    }\n",
              "    20% {\n",
              "      border-color: transparent;\n",
              "      border-left-color: var(--fill-color);\n",
              "      border-top-color: var(--fill-color);\n",
              "    }\n",
              "    30% {\n",
              "      border-color: transparent;\n",
              "      border-left-color: var(--fill-color);\n",
              "      border-top-color: var(--fill-color);\n",
              "      border-right-color: var(--fill-color);\n",
              "    }\n",
              "    40% {\n",
              "      border-color: transparent;\n",
              "      border-right-color: var(--fill-color);\n",
              "      border-top-color: var(--fill-color);\n",
              "    }\n",
              "    60% {\n",
              "      border-color: transparent;\n",
              "      border-right-color: var(--fill-color);\n",
              "    }\n",
              "    80% {\n",
              "      border-color: transparent;\n",
              "      border-right-color: var(--fill-color);\n",
              "      border-bottom-color: var(--fill-color);\n",
              "    }\n",
              "    90% {\n",
              "      border-color: transparent;\n",
              "      border-bottom-color: var(--fill-color);\n",
              "    }\n",
              "  }\n",
              "</style>\n",
              "\n",
              "  <script>\n",
              "    async function quickchart(key) {\n",
              "      const quickchartButtonEl =\n",
              "        document.querySelector('#' + key + ' button');\n",
              "      quickchartButtonEl.disabled = true;  // To prevent multiple clicks.\n",
              "      quickchartButtonEl.classList.add('colab-df-spinner');\n",
              "      try {\n",
              "        const charts = await google.colab.kernel.invokeFunction(\n",
              "            'suggestCharts', [key], {});\n",
              "      } catch (error) {\n",
              "        console.error('Error during call to suggestCharts:', error);\n",
              "      }\n",
              "      quickchartButtonEl.classList.remove('colab-df-spinner');\n",
              "      quickchartButtonEl.classList.add('colab-df-quickchart-complete');\n",
              "    }\n",
              "    (() => {\n",
              "      let quickchartButtonEl =\n",
              "        document.querySelector('#df-7d7394e8-3e19-4141-a269-4d3e8287943f button');\n",
              "      quickchartButtonEl.style.display =\n",
              "        google.colab.kernel.accessAllowed ? 'block' : 'none';\n",
              "    })();\n",
              "  </script>\n",
              "</div>\n",
              "    </div>\n",
              "  </div>\n"
            ],
            "application/vnd.google.colaboratory.intrinsic+json": {
              "type": "dataframe",
              "variable_name": "data",
              "summary": "{\n  \"name\": \"data\",\n  \"rows\": 50000,\n  \"fields\": [\n    {\n      \"column\": \"Title\",\n      \"properties\": {\n        \"dtype\": \"string\",\n        \"num_unique_values\": 49906,\n        \"samples\": [\n          \"define role permission security swagger\",\n          \"writing file string rust\",\n          \"glassfish authentication failed\"\n        ],\n        \"semantic_type\": \"\",\n        \"description\": \"\"\n      }\n    },\n    {\n      \"column\": \"Body\",\n      \"properties\": {\n        \"dtype\": \"string\",\n        \"num_unique_values\": 50000,\n        \"samples\": [\n          \"trying figure causing cannot perform runtime binding null reference error code var query select username loggedin aspnetusers loggedin order asc var conn new sqlconnection system configuration configurationmanager connectionstrings defaultconnection connectionstring var cmd new sqlcommand query conn conn open var rdr cmd executereader var rdr read convert tostring rdr username null viewbag speaker new string convert tostring rdr convert tostring rdr username convert tostring rdr convert tostring rdr loggedin exception detail microsoft csharp runtimebinder runtimebinderexception cannot perform runtime binding null reference increment seems cause error understand updated code reflect possible solution however error still remains tried result string isnullorwhitespace convert tostring rdr username list string speaker new list string speaker add convert tostring rdr speaker add convert tostring rdr username speaker add convert tostring rdr speaker add convert tostring rdr loggedin viewbag speaker speaker\",\n          \"view model viewmodel pattern wpf trying databind height width various definition grid control store value user set using gridsplitter however normal pattern seem work particular property note posting reference question posting google failed work answer follow\",\n          \"want implement trait std write output memory buffer ideally string unit testing purpose must missing something simple similar another question writing file stdout rust working code work std write implementation operates structure defined like pub struct mystructure writer box dyn write easy create instance writing either file stdout impl mystructure pub self let writer box new std stdout mystructure writer pub asref path path result self let writer box new file create path mystructure writer pub printit mut self result self writer write hello unit testing also need way run business logic represented method printit trap output content checked test cannot figure implement playground code show would like use compile break borrowing rule invalid code compile main let mut buf vec new buffer receive output let mut mystructure writer box new buf printit unwrap get collected output let output std str buf unwrap want analyze output instance unit test asserts println output string output idea write code correctly implement writer top memory structure string vec accessed afterwards\"\n        ],\n        \"semantic_type\": \"\",\n        \"description\": \"\"\n      }\n    },\n    {\n      \"column\": \"Tags\",\n      \"properties\": {\n        \"dtype\": \"string\",\n        \"num_unique_values\": 39393,\n        \"samples\": [\n          \"|java|memory-management|garbage-collection|jvm|heap-memory|\",\n          \"|iphone|cocoa-touch|landscape|\",\n          \"|c#|wpf|mvvm|expander|\"\n        ],\n        \"semantic_type\": \"\",\n        \"description\": \"\"\n      }\n    },\n    {\n      \"column\": \"Id\",\n      \"properties\": {\n        \"dtype\": \"number\",\n        \"std\": 19081434,\n        \"min\": 4,\n        \"max\": 66017188,\n        \"num_unique_values\": 50000,\n        \"samples\": [\n          40531522,\n          147908,\n          63024483\n        ],\n        \"semantic_type\": \"\",\n        \"description\": \"\"\n      }\n    },\n    {\n      \"column\": \"Score\",\n      \"properties\": {\n        \"dtype\": \"number\",\n        \"std\": 169,\n        \"min\": 6,\n        \"max\": 11317,\n        \"num_unique_values\": 805,\n        \"samples\": [\n          236,\n          529,\n          164\n        ],\n        \"semantic_type\": \"\",\n        \"description\": \"\"\n      }\n    },\n    {\n      \"column\": \"ViewCount\",\n      \"properties\": {\n        \"dtype\": \"number\",\n        \"std\": 137149,\n        \"min\": 30,\n        \"max\": 6047409,\n        \"num_unique_values\": 30183,\n        \"samples\": [\n          47208,\n          1785,\n          20619\n        ],\n        \"semantic_type\": \"\",\n        \"description\": \"\"\n      }\n    },\n    {\n      \"column\": \"FavoriteCount\",\n      \"properties\": {\n        \"dtype\": \"date\",\n        \"min\": \"1970-01-01 00:00:00\",\n        \"max\": \"1970-01-01 00:00:00.000000225\",\n        \"num_unique_values\": 4,\n        \"samples\": [\n          \"\",\n          1.0,\n          0.0\n        ],\n        \"semantic_type\": \"\",\n        \"description\": \"\"\n      }\n    },\n    {\n      \"column\": \"AnswerCount\",\n      \"properties\": {\n        \"dtype\": \"number\",\n        \"std\": 5,\n        \"min\": 1,\n        \"max\": 296,\n        \"num_unique_values\": 80,\n        \"samples\": [\n          25,\n          12,\n          26\n        ],\n        \"semantic_type\": \"\",\n        \"description\": \"\"\n      }\n    }\n  ]\n}"
            }
          },
          "metadata": {},
          "execution_count": 44
        }
      ],
      "source": [
        "data"
      ]
    },
    {
      "cell_type": "markdown",
      "metadata": {
        "id": "iAZzQC1zxjJ2"
      },
      "source": [
        "### **Préparation de la variable cible**"
      ]
    },
    {
      "cell_type": "code",
      "execution_count": 45,
      "metadata": {
        "id": "yN_T5IMexeb0"
      },
      "outputs": [],
      "source": [
        "tags, nested_tags = [], []\n",
        "# recuperer top k des tags importants\n",
        "for i in range(len(data)):\n",
        "  tags.append(data[\"Tags\"].iloc[i].split('|'))\n",
        "for tag in tags:\n",
        "  for subtag in tag:\n",
        "    if subtag !=\"\":\n",
        "      nested_tags.append(subtag)\n",
        "\n",
        "df_tags =  pd.DataFrame(nested_tags).rename(columns={0:\"tags\"})\n",
        "df_tags = df_tags[\"tags\"].value_counts().reset_index().sort_values(\"count\", ascending=False)\n",
        "real_tags = df_tags.head(10)[\"tags\"].tolist()"
      ]
    },
    {
      "cell_type": "code",
      "execution_count": 46,
      "metadata": {
        "id": "vBBYNdMp0-qk"
      },
      "outputs": [],
      "source": [
        "# transformer le contenu de tag en list de simple tag\n",
        "data['filtered_tags'] = data['Tags'].str.split(\"|\")"
      ]
    },
    {
      "cell_type": "code",
      "execution_count": 47,
      "metadata": {
        "id": "CL1yXg591JZ_"
      },
      "outputs": [],
      "source": [
        "# strip les virgules au debut des tags\n",
        "def strip_and_filter_commas(tag_list):\n",
        "    return [tag.strip(',') for tag in tag_list if tag.strip(',')]\n",
        "data['filtered_tags'] = data['filtered_tags'].apply(strip_and_filter_commas)"
      ]
    },
    {
      "cell_type": "code",
      "execution_count": 48,
      "metadata": {
        "id": "7ori6sQG1VPy"
      },
      "outputs": [],
      "source": [
        "# Vérifier si chaque ligne de 'filtered_tags' contient au moins un élément de 'real_tags'\n",
        "data['contains_real_tag'] = data['filtered_tags'].apply(lambda x: any(tag in x for tag in real_tags))"
      ]
    },
    {
      "cell_type": "code",
      "execution_count": 50,
      "metadata": {
        "colab": {
          "base_uri": "https://localhost:8080/"
        },
        "id": "VLTAw-aj1oRx",
        "outputId": "1b0da09f-16af-4dac-e7ac-522078fafa68"
      },
      "outputs": [
        {
          "output_type": "execute_result",
          "data": {
            "text/plain": [
              "0            [Others]\n",
              "1        [javascript]\n",
              "2            [Others]\n",
              "3            [Others]\n",
              "4               [ios]\n",
              "             ...     \n",
              "49995           [c++]\n",
              "49996          [java]\n",
              "49997    [javascript]\n",
              "49998        [Others]\n",
              "49999        [Others]\n",
              "Name: filtered_tags, Length: 50000, dtype: object"
            ]
          },
          "metadata": {},
          "execution_count": 50
        }
      ],
      "source": [
        "# garder les tags pertinents et remplacer par others si impertinents\n",
        "allowed_tags = real_tags\n",
        "\n",
        "def filter_tags(tag_list):\n",
        "    if any(tag in allowed_tags for tag in tag_list):\n",
        "        return [tag for tag in tag_list if tag in allowed_tags]\n",
        "    else:\n",
        "        return [\"Others\"]\n",
        "\n",
        "\n",
        "data['filtered_tags'] = data['filtered_tags'].apply(filter_tags)\n",
        "data['filtered_tags']"
      ]
    },
    {
      "cell_type": "markdown",
      "metadata": {
        "id": "cGfGWxOX2nW9"
      },
      "source": [
        "## **Encodage et séparation des données en trainset et testset**"
      ]
    },
    {
      "cell_type": "code",
      "execution_count": 51,
      "metadata": {
        "id": "PO41OH7T_krn"
      },
      "outputs": [],
      "source": [
        "from sklearn.preprocessing import MultiLabelBinarizer\n",
        "mlb = MultiLabelBinarizer()\n",
        "mlb.fit(data['filtered_tags'])\n",
        "y = mlb.transform(data['filtered_tags'])"
      ]
    },
    {
      "cell_type": "code",
      "execution_count": 52,
      "metadata": {
        "id": "FJcG9uHRzMjX"
      },
      "outputs": [],
      "source": [
        "X = data[['Title', 'Body']].apply(lambda x: ' '.join(x), axis=1)\n",
        "vectorizer = CountVectorizer()\n",
        "X = vectorizer.fit_transform(X)"
      ]
    },
    {
      "cell_type": "code",
      "execution_count": 53,
      "metadata": {
        "id": "eunkKkCm1WXp"
      },
      "outputs": [],
      "source": [
        "# Séparation des données en ensembles d'entraînement et de test\n",
        "X_train, X_test, y_train, y_test = train_test_split(X, y, test_size=0.2, random_state=42)"
      ]
    },
    {
      "cell_type": "markdown",
      "metadata": {
        "id": "slep0Dbn-pCG"
      },
      "source": [
        "## **Expériences MLFLOW avec Logistic Classifier**"
      ]
    },
    {
      "cell_type": "code",
      "execution_count": null,
      "metadata": {
        "colab": {
          "base_uri": "https://localhost:8080/"
        },
        "id": "6OyrJoQV-r-U",
        "outputId": "c2cd269a-b7dd-463b-cf1c-ffa9c70b8bc4"
      },
      "outputs": [
        {
          "output_type": "stream",
          "name": "stderr",
          "text": [
            "/usr/local/lib/python3.10/dist-packages/_distutils_hack/__init__.py:33: UserWarning: Setuptools is replacing distutils.\n",
            "  warnings.warn(\"Setuptools is replacing distutils.\")\n",
            "Successfully registered model 'Logistic Classifier model'.\n",
            "Created version '1' of model 'Logistic Classifier model'.\n",
            "Registered model 'Logistic Classifier model' already exists. Creating a new version of this model...\n",
            "Created version '2' of model 'Logistic Classifier model'.\n",
            "Registered model 'Logistic Classifier model' already exists. Creating a new version of this model...\n",
            "Created version '3' of model 'Logistic Classifier model'.\n",
            "Registered model 'Logistic Classifier model' already exists. Creating a new version of this model...\n",
            "Created version '4' of model 'Logistic Classifier model'.\n",
            "Registered model 'Logistic Classifier model' already exists. Creating a new version of this model...\n",
            "Created version '5' of model 'Logistic Classifier model'.\n",
            "Registered model 'Logistic Classifier model' already exists. Creating a new version of this model...\n",
            "Created version '6' of model 'Logistic Classifier model'.\n",
            "Registered model 'Logistic Classifier model' already exists. Creating a new version of this model...\n",
            "Created version '7' of model 'Logistic Classifier model'.\n"
          ]
        }
      ],
      "source": [
        "mlflow.set_experiment(\"logistiC Classifier\")\n",
        "\n",
        "def track_experiment(X_train, y_train, X_test, y_test, param_grid, message, month):\n",
        "    \"\"\"\n",
        "    Suivi des expériences avec différents hyperparamètres du logistiC Classifier à l'aide de MLflow.\n",
        "\n",
        "    Paramètres:\n",
        "        X_train : fonctionnalités de formation.\n",
        "        y_train : étiquettes de formation.\n",
        "        X_test : tester les fonctionnalités.\n",
        "        y_test : tester les étiquettes.\n",
        "        param_grid : Dictionnaire des hyperparamètres et de leurs plages.\n",
        "        message : message à définir comme nom d'exécution dans MLflow.\n",
        "        mois : mois pour lequel l'expérience est menée.\n",
        "\n",
        "    Retour:\n",
        "        Aucun\n",
        "    \"\"\"\n",
        "    # Start MLflow run\n",
        "    if mlflow.active_run():\n",
        "        mlflow.end_run()\n",
        "    else:\n",
        "        mlflow.start_run(run_name=\"logistiC Classifier\")\n",
        "\n",
        "    # Log the month for which the experiment is conducted\n",
        "    mlflow.log_param(\"month\", month)\n",
        "\n",
        "    # Loop over parameter grid\n",
        "    for params in ParameterGrid(param_grid):\n",
        "        # Start nested MLflow run\n",
        "        with mlflow.start_run(nested=True):\n",
        "            # Log hyperparameters\n",
        "            for key, value in params.items():\n",
        "                mlflow.log_param(key, value)\n",
        "\n",
        "            # Instantiate model with current set of hyperparameters\n",
        "            base_model = LogisticRegression(**params)\n",
        "            model_logistic = OneVsRestClassifier(base_model)\n",
        "\n",
        "            # Train the model\n",
        "            start_time = time.time()\n",
        "            model_logistic.fit(X_train, y_train)\n",
        "            end_time = time.time()\n",
        "\n",
        "            # Log model\n",
        "            mlflow.sklearn.log_model(model_logistic, \"model_logistic\")\n",
        "            # Register model in Model Registry\n",
        "            model_uri = f\"runs:/{mlflow.active_run().info.run_id}/model_logistic\"\n",
        "            registered_model = mlflow.register_model(model_uri, \"Logistic Classifier model\")\n",
        "\n",
        "            # Make predictions\n",
        "            y_pred = model_logistic.predict(X_test)\n",
        "\n",
        "            # Calculate metrics\n",
        "            jaccard = jaccard_score(y_test, y_pred, average='weighted')\n",
        "            accuracy = accuracy_score(y_test, y_pred)\n",
        "            precision = precision_score(y_test, y_pred, average='weighted')\n",
        "            recall = recall_score(y_test, y_pred, average='weighted')\n",
        "            f1 = f1_score(y_test, y_pred, average='weighted')\n",
        "\n",
        "\n",
        "            # Log metrics\n",
        "            mlflow.log_metric(\"Jaccard\", round(jaccard, 2))\n",
        "            mlflow.log_metric(\"accuracy\", round(accuracy, 2))\n",
        "            mlflow.log_metric(\"precision\", round(precision, 2))\n",
        "            mlflow.log_metric(\"recall\", round(recall, 2))\n",
        "            mlflow.log_metric(\"f1\", round(f1, 2))\n",
        "            mlflow.log_metric(\"training_time\", end_time - start_time)\n",
        "\n",
        "# # Example usage:\n",
        "param_grid_logistic = {\n",
        "    \"max_iter\": [500],\n",
        "    \"solver\" :['liblinear'],\n",
        "}\n",
        "\n",
        "months = [\"Jan\", \"Feb\", \"Mar\", \"Apr\", \"May\", \"Jun\", \"Jul\", \"Aug\", \"Sep\", \"Oct\", \"Nov\", \"Dec\"]\n",
        "\n",
        "for month in months:\n",
        "    track_experiment(X_train, y_train, X_test, y_test, param_grid=param_grid_logistic, message=\"logistiC Classifier\", month=month)"
      ]
    },
    {
      "cell_type": "markdown",
      "metadata": {
        "id": "55O96KDdofiY"
      },
      "source": [
        "## **Entrainement du modèle SGD Classifier**\n",
        "\n",
        "---\n",
        "\n"
      ]
    },
    {
      "cell_type": "code",
      "execution_count": null,
      "metadata": {
        "id": "tQzbZ9LQpqaV"
      },
      "outputs": [],
      "source": [
        "mlflow.set_experiment(\"SGD Classifier\")\n",
        "\n",
        "def track_experiment(X_train, y_train, X_test, y_test, param_grid, message, month):\n",
        "    \"\"\"\n",
        "    Suivi des expériences avec différents hyperparamètres du SGD Classifier à l'aide de MLflow\n",
        "    Paramètres:\n",
        "        X_train : fonctionnalités de formation.\n",
        "        y_train : étiquettes de formation.\n",
        "        X_test : tester les fonctionnalités.\n",
        "        y_test : tester les étiquettes.\n",
        "        param_grid : Dictionnaire des hyperparamètres et de leurs plages.\n",
        "        message : message à définir comme nom d'exécution dans MLflow.\n",
        "        mois : mois pour lequel l'expérience est menée.\n",
        "\n",
        "    Retour:\n",
        "        Aucun\n",
        "    \"\"\"\n",
        "    # Start MLflow run\n",
        "    if mlflow.active_run():\n",
        "        mlflow.end_run()\n",
        "    else:\n",
        "        mlflow.start_run(run_name=\"SGD Classifier\")\n",
        "\n",
        "    # Log the month for which the experiment is conducted\n",
        "    mlflow.log_param(\"month\", month)\n",
        "\n",
        "    # Loop over parameter grid\n",
        "    for params in ParameterGrid(param_grid):\n",
        "        # Start nested MLflow run\n",
        "        with mlflow.start_run(nested=True):\n",
        "            # Log hyperparameters\n",
        "            for key, value in params.items():\n",
        "                mlflow.log_param(key, value)\n",
        "\n",
        "            # Instantiate model with current set of hyperparameters\n",
        "            base_model = SGDClassifier(**params)\n",
        "            model_sgd = OneVsRestClassifier(base_model)\n",
        "\n",
        "            # Train the model\n",
        "            start_time = time.time()\n",
        "            model_sgd.fit(X_train, y_train)\n",
        "            end_time = time.time()\n",
        "\n",
        "            # Log model\n",
        "            mlflow.sklearn.log_model(model_sgd, \"model_sgd\")\n",
        "            # Register model in Model Registry\n",
        "            model_uri = f\"runs:/{mlflow.active_run().info.run_id}/model_sgd\"\n",
        "            registered_model = mlflow.register_model(model_uri, \"SGD Classifier Model\")\n",
        "\n",
        "            # Make predictions\n",
        "            y_pred = model_sgd.predict(X_test)\n",
        "\n",
        "            # Calculate metrics\n",
        "            jaccard = jaccard_score(y_test, y_pred, average='weighted')\n",
        "            accuracy = accuracy_score(y_test, y_pred)\n",
        "            precision = precision_score(y_test, y_pred, average='weighted')\n",
        "            recall = recall_score(y_test, y_pred, average='weighted')\n",
        "            f1 = f1_score(y_test, y_pred, average='weighted')\n",
        "            # Fonction pour calculer le taux de valeurs non prédites\n",
        "\n",
        "            # Log metrics\n",
        "            mlflow.log_metric(\"Jaccard\", round(jaccard, 2))\n",
        "            mlflow.log_metric(\"accuracy\", round(accuracy, 2))\n",
        "            mlflow.log_metric(\"precision\", round(precision, 2))\n",
        "            mlflow.log_metric(\"recall\", round(recall, 2))\n",
        "            mlflow.log_metric(\"f1\", round(f1, 2))\n",
        "            mlflow.log_metric(\"training_time\", end_time - start_time)\n",
        "\n",
        "# # Example usage:\n",
        "param_grid = {\n",
        "    \"loss\" : [\"hinge\"],\n",
        "    \"max_iter\": [500]\n",
        "}\n",
        "months = [\"Jan\", \"Feb\", \"Mar\", \"Apr\", \"May\", \"Jun\", \"Jul\", \"Aug\", \"Sep\", \"Oct\", \"Nov\", \"Dec\"]\n",
        "\n",
        "for month in months:\n",
        "    track_experiment(X_train, y_train, X_test, y_test, param_grid, message=\"SGD Classifier\", month=month)"
      ]
    },
    {
      "cell_type": "markdown",
      "metadata": {
        "id": "nSv5LVc9MjWr"
      },
      "source": [
        "## **Entrainement du modèle KNN Classifier**"
      ]
    },
    {
      "cell_type": "code",
      "execution_count": null,
      "metadata": {
        "id": "f69Z-WT2CDZf"
      },
      "outputs": [],
      "source": [
        "mlflow.set_experiment(\"KNN Classifier\")\n",
        "\n",
        "def track_experiment(X_train, y_train, X_test, y_test, param_grid, message, month):\n",
        "    \"\"\"\n",
        "    Suivi des expériences avec différents hyperparamètres du KNN Classifier à l'aide de MLflow.\n",
        "\n",
        "    Paramètres:\n",
        "        X_train : fonctionnalités de formation.\n",
        "        y_train : étiquettes de formation.\n",
        "        X_test : tester les fonctionnalités.\n",
        "        y_test : tester les étiquettes.\n",
        "        param_grid : Dictionnaire des hyperparamètres et de leurs plages.\n",
        "        message : message à définir comme nom d'exécution dans MLflow.\n",
        "        mois : mois pour lequel l'expérience est menée.\n",
        "\n",
        "    Retour:\n",
        "        Aucun\n",
        "    \"\"\"\n",
        "    # Start MLflow run\n",
        "    if mlflow.active_run():\n",
        "        mlflow.end_run()\n",
        "    else:\n",
        "        mlflow.start_run(run_name=\"KNN Classifier\")\n",
        "\n",
        "    # Log the month for which the experiment is conducted\n",
        "    mlflow.log_param(\"month\", month)\n",
        "\n",
        "    # Loop over parameter grid\n",
        "    for params in ParameterGrid(param_grid):\n",
        "        # Start nested MLflow run\n",
        "        with mlflow.start_run(nested=True):\n",
        "            # Log hyperparameters\n",
        "            for key, value in params.items():\n",
        "                mlflow.log_param(key, value)\n",
        "\n",
        "            # Instantiate model with current set of hyperparameters\n",
        "            model_knn = KNeighborsClassifier(**params)\n",
        "\n",
        "            # Train the model\n",
        "            start_time = time.time()\n",
        "            model_knn.fit(X_train, y_train)\n",
        "            end_time = time.time()\n",
        "\n",
        "            # Log model\n",
        "            mlflow.sklearn.log_model(model_knn, \"model_knn\")\n",
        "            # Register model in Model Registry\n",
        "            model_uri = f\"runs:/{mlflow.active_run().info.run_id}/model_knn\"\n",
        "            registered_model = mlflow.register_model(model_uri, \"KNN Model\")\n",
        "\n",
        "            # Make predictions\n",
        "            y_pred = model_knn.predict(X_test)\n",
        "\n",
        "            # Calculate metrics\n",
        "            jaccard = jaccard_score(y_test, y_pred, average='weighted')\n",
        "            accuracy = accuracy_score(y_test, y_pred)\n",
        "            precision = precision_score(y_test, y_pred, average='weighted')\n",
        "            recall = recall_score(y_test, y_pred, average='weighted')\n",
        "            f1 = f1_score(y_test, y_pred, average='weighted')\n",
        "\n",
        "            # Log metrics\n",
        "            mlflow.log_metric(\"Jaccard\", round(jaccard, 2))\n",
        "            mlflow.log_metric(\"accuracy\", round(accuracy, 2))\n",
        "            mlflow.log_metric(\"precision\", round(precision, 2))\n",
        "            mlflow.log_metric(\"recall\", round(recall, 2))\n",
        "            mlflow.log_metric(\"f1\", round(f1, 2))\n",
        "            mlflow.log_metric(\"training_time\", end_time - start_time)\n",
        "\n",
        "# Example usage:\n",
        "param_grid_knn = {\n",
        "    \"n_neighbors\": [3, 5, 7, 10]\n",
        "}\n",
        "months = [\"Jan\", \"Feb\", \"Mar\", \"Apr\", \"May\", \"Jun\", \"Jul\", \"Aug\", \"Sep\", \"Oct\", \"Nov\", \"Dec\"]\n",
        "\n",
        "for month in months:\n",
        "    track_experiment(X_train, y_train, X_test, y_test, param_grid=param_grid_knn, message=\"KNN Classifier\", month=month)\n"
      ]
    },
    {
      "cell_type": "code",
      "execution_count": null,
      "metadata": {
        "id": "WVHjPy4cbQF0"
      },
      "outputs": [],
      "source": [
        "mlflow.set_experiment(\"RDF Classifier\")\n",
        "\n",
        "def track_experiment(X_train, y_train, X_test, y_test, param_grid, message, month):\n",
        "    \"\"\"\n",
        "    Suivi des expériences avec différents hyperparamètres du RDF Classifier à l'aide de MLflow.\n",
        "\n",
        "    Paramètres:\n",
        "        X_train : fonctionnalités de formation.\n",
        "        y_train : étiquettes de formation.\n",
        "        X_test : tester les fonctionnalités.\n",
        "        y_test : tester les étiquettes.\n",
        "        param_grid : Dictionnaire des hyperparamètres et de leurs plages.\n",
        "        message : message à définir comme nom d'exécution dans MLflow.\n",
        "        mois : mois pour lequel l'expérience est menée.\n",
        "\n",
        "    Retour:\n",
        "        Aucun\n",
        "    \"\"\"\n",
        "    # Start MLflow run\n",
        "    if mlflow.active_run():\n",
        "        mlflow.end_run()\n",
        "    else:\n",
        "        mlflow.start_run(run_name=\"RDF Classifier\")\n",
        "\n",
        "    # Log the month for which the experiment is conducted\n",
        "    mlflow.log_param(\"month\", month)\n",
        "\n",
        "    # # Vérifiez la forme de y_train et y_test\n",
        "    # print(f\"y_train shape: {y_train.shape}\")\n",
        "    # print(f\"y_test shape: {y_test.shape}\")\n",
        "\n",
        "    # Assurez-vous que y_train et y_test sont des matrices avec la bonne forme\n",
        "    if len(y_train.shape) == 1:\n",
        "        y_train = y_train.reshape(-1, 1)\n",
        "    if len(y_test.shape) == 1:\n",
        "        y_test = y_test.reshape(-1, 1)\n",
        "\n",
        "    # Loop over parameter grid\n",
        "    for params in ParameterGrid(param_grid):\n",
        "        # Start nested MLflow run\n",
        "        with mlflow.start_run(nested=True):\n",
        "            # Log hyperparameters\n",
        "\n",
        "            # Instantiate model with current set of hyperparameters\n",
        "            base_rf = RandomForestClassifier(**params)\n",
        "\n",
        "            # Créer un classifieur chain avec Random Forest\n",
        "            chain = ClassifierChain(base_rf, order='random', random_state=42)\n",
        "\n",
        "            # Train the model\n",
        "            start_time = time.time()\n",
        "            chain.fit(X_train, y_train)\n",
        "            end_time = time.time()\n",
        "\n",
        "            # Log model\n",
        "            mlflow.sklearn.log_model(chain, \"model_RDF\")\n",
        "            # Register model in Model Registry\n",
        "            model_uri = f\"runs:/{mlflow.active_run().info.run_id}/chain\"\n",
        "            registered_model = mlflow.register_model(model_uri, \"RDF Classifier model\")\n",
        "\n",
        "            # Make predictions\n",
        "            y_pred = chain.predict(X_test)\n",
        "\n",
        "            # Calculate metrics\n",
        "            jaccard = jaccard_score(y_test, y_pred, average='weighted')\n",
        "            accuracy = accuracy_score(y_test, y_pred)\n",
        "            precision = precision_score(y_test, y_pred, average='weighted')\n",
        "            recall = recall_score(y_test, y_pred, average='weighted')\n",
        "            f1 = f1_score(y_test, y_pred, average='weighted')\n",
        "\n",
        "            # Log metrics\n",
        "            mlflow.log_metric(\"Jaccard\", round(jaccard, 2))\n",
        "            mlflow.log_metric(\"accuracy\", round(accuracy, 2))\n",
        "            mlflow.log_metric(\"precision\", round(precision, 2))\n",
        "            mlflow.log_metric(\"recall\", round(recall, 2))\n",
        "            mlflow.log_metric(\"f1\", round(f1, 2))\n",
        "            mlflow.log_metric(\"training_time\", end_time - start_time)\n",
        "\n",
        "# # Example usage:\n",
        "param_grid_rf = {\n",
        "    \"n_estimators\": [50]\n",
        "}\n",
        "months = [\"Jan\", \"Feb\", \"Mar\", \"Apr\", \"May\", \"Jun\", \"Jul\", \"Aug\", \"Sep\", \"Oct\", \"Nov\", \"Dec\"]\n",
        "\n",
        "for month in months:\n",
        "    track_experiment(X_train, y_train, X_test, y_test, param_grid=param_grid_rf, message=\"RDF Classifier\", month=month)\n"
      ]
    },
    {
      "cell_type": "code",
      "execution_count": null,
      "metadata": {
        "id": "W81VoElf4x5K"
      },
      "outputs": [],
      "source": [
        "tracker()"
      ]
    },
    {
      "cell_type": "markdown",
      "metadata": {
        "id": "ff5k11zQ5mR9"
      },
      "source": [
        "## **Word2Vec Embedding**"
      ]
    },
    {
      "cell_type": "code",
      "execution_count": null,
      "metadata": {
        "id": "Isuf65LmZ_5D"
      },
      "outputs": [],
      "source": [
        " DATA = df.copy()"
      ]
    },
    {
      "cell_type": "code",
      "execution_count": null,
      "metadata": {
        "id": "clDw_vrsQeRx"
      },
      "outputs": [],
      "source": [
        "num_workers = multiprocessing.cpu_count()\n",
        "num_workers"
      ]
    },
    {
      "cell_type": "code",
      "execution_count": null,
      "metadata": {
        "id": "DHv31oo75GKQ"
      },
      "outputs": [],
      "source": [
        "# Séparation des titres et des corps des questions\n",
        "sentences = DATA['Title'] + ' ' + DATA['Body']\n",
        "\n",
        "import nltk\n",
        "nltk.download('punkt')\n",
        "from nltk.tokenize import word_tokenize\n",
        "\n",
        "tokenized_sentences = [word_tokenize(sentence) for sentence in sentences]"
      ]
    },
    {
      "cell_type": "code",
      "execution_count": null,
      "metadata": {
        "id": "_M-wgxIKJ1Be"
      },
      "outputs": [],
      "source": [
        "# Entraînement du modèle Word2Vec\n",
        "word2vec_model = Word2Vec(tokenized_sentences, vector_size=50, window=5, min_count=2, workers=num_workers)"
      ]
    },
    {
      "cell_type": "code",
      "execution_count": null,
      "metadata": {
        "id": "bjnmXGnBDh4C"
      },
      "outputs": [],
      "source": [
        "def sentence_embedding(sentence, model):\n",
        "    word_embeddings = [model.wv[word] for word in sentence if word in model.wv]\n",
        "    if len(word_embeddings) > 0:\n",
        "        return np.mean(word_embeddings, axis=0)\n",
        "    else:\n",
        "        return np.zeros(model.vector_size)  # Si aucun mot de la phrase n'est présent dans le modèle, renvoie un vecteur nul\n",
        "\n",
        "# Créer les embeddings de phrases pour chaque phrase dans tokenized_sentences\n",
        "sentence_embeddings = [sentence_embedding(sentence, word2vec_model) for sentence in tokenized_sentences]\n"
      ]
    },
    {
      "cell_type": "code",
      "execution_count": null,
      "metadata": {
        "id": "gp0pbyz9Jfzp"
      },
      "outputs": [],
      "source": [
        "X = np.array(sentence_embeddings)"
      ]
    },
    {
      "cell_type": "code",
      "execution_count": null,
      "metadata": {
        "id": "QuF373nELcJT"
      },
      "outputs": [],
      "source": [
        "tags, nested_tags = [], []\n",
        "# recuperer top k des tags importants\n",
        "for i in range(len(data)):\n",
        "  tags.append(DATA[\"Tags\"].iloc[i].split('|'))\n",
        "for tag in tags:\n",
        "  for subtag in tag:\n",
        "    if subtag !=\"\":\n",
        "      nested_tags.append(subtag)\n",
        "\n",
        "df_tags =  pd.DataFrame(nested_tags).rename(columns={0:\"tags\"})\n",
        "df_tags = df_tags[\"tags\"].value_counts().reset_index().sort_values(\"count\", ascending=False)\n",
        "real_tags = df_tags.head(30)[\"tags\"].tolist()"
      ]
    },
    {
      "cell_type": "code",
      "execution_count": null,
      "metadata": {
        "id": "9qYb6lcgNE9m"
      },
      "outputs": [],
      "source": [
        "# transformer le contenu de tag en list de simple tag\n",
        "DATA['filtered_tags'] = DATA['Tags'].str.split(\"|\")"
      ]
    },
    {
      "cell_type": "code",
      "execution_count": null,
      "metadata": {
        "id": "4PzKvXPLNEhm"
      },
      "outputs": [],
      "source": [
        "# strip les virgules au debut des tags\n",
        "def strip_and_filter_commas(tag_list):\n",
        "    return [tag.strip(',') for tag in tag_list if tag.strip(',')]\n",
        "DATA['filtered_tags'] = DATA['filtered_tags'].apply(strip_and_filter_commas)"
      ]
    },
    {
      "cell_type": "code",
      "execution_count": null,
      "metadata": {
        "id": "qTMjO47pNb-8"
      },
      "outputs": [],
      "source": [
        "# Vérifier si chaque ligne de 'filtered_tags' contient au moins un élément de 'real_tags'\n",
        "DATA['contains_real_tag'] = DATA['filtered_tags'].apply(lambda x: any(tag in x for tag in real_tags))"
      ]
    },
    {
      "cell_type": "code",
      "execution_count": null,
      "metadata": {
        "id": "x4fcOgIbNktE"
      },
      "outputs": [],
      "source": [
        "# garder les tags pertinents et remplacer par others si impertinents\n",
        "allowed_tags = real_tags\n",
        "\n",
        "def filter_tags(tag_list):\n",
        "    if any(tag in allowed_tags for tag in tag_list):\n",
        "        return [tag for tag in tag_list if tag in allowed_tags]\n",
        "    else:\n",
        "        return [\"Others\"]\n",
        "\n",
        "\n",
        "DATA['filtered_tags'] = DATA['filtered_tags'].apply(filter_tags)"
      ]
    },
    {
      "cell_type": "code",
      "execution_count": null,
      "metadata": {
        "id": "Xb6YzcaZ5LDE"
      },
      "outputs": [],
      "source": [
        "# Créer une instance de MultiLabelBinarizer et ajuster sur les libellés d'entraînement\n",
        "mlb = MultiLabelBinarizer()\n",
        "y_encoded = mlb.fit_transform(DATA['filtered_tags'])"
      ]
    },
    {
      "cell_type": "code",
      "execution_count": null,
      "metadata": {
        "id": "oERhhCuxFv5e"
      },
      "outputs": [],
      "source": [
        "# Séparation des données en ensemble d'entraînement et ensemble de test\n",
        "X_train, X_test, y_train, y_test = train_test_split(X, y_encoded, test_size=0.2, random_state=42)"
      ]
    },
    {
      "cell_type": "code",
      "execution_count": null,
      "metadata": {
        "id": "UVNeuzZNOmIZ"
      },
      "outputs": [],
      "source": [
        "# 5. Entraînement du modèle\n",
        "classifier = OneVsRestClassifier(LogisticRegression())\n",
        "start_time = time.time()\n",
        "classifier.fit(X_train, y_train)\n",
        "end_time = time.time()"
      ]
    },
    {
      "cell_type": "code",
      "execution_count": null,
      "metadata": {
        "id": "Z_il6DYAIxV3"
      },
      "outputs": [],
      "source": [
        "# 6. Évaluation du modèle\n",
        "y_pred = classifier.predict(X_test)\n",
        "# Calculate metrics\n",
        "jaccard = jaccard_score(y_test, y_pred, average='weighted')\n",
        "accuracy = accuracy_score(y_test, y_pred)\n",
        "precision = precision_score(y_test, y_pred, average='weighted')\n",
        "recall = recall_score(y_test, y_pred, average='weighted')\n",
        "f1 = f1_score(y_test, y_pred, average='weighted')\n",
        "report = classification_report(y_test, y_pred)\n",
        "\n",
        "# Log metrics\n",
        "print(\"Jaccard\", round(jaccard, 2))\n",
        "print(\"accuracy\", round(accuracy, 2))\n",
        "print(\"precision\", round(precision, 2))\n",
        "print(\"recall\", round(recall, 2))\n",
        "print(\"f1\", round(f1, 2))\n",
        "print(\"training_time\", end_time - start_time)\n",
        "print(\"Classification Report:\\n\", report)"
      ]
    },
    {
      "cell_type": "markdown",
      "metadata": {
        "id": "ZEh_c0Ti849d"
      },
      "source": [
        "## **USE Embedding**"
      ]
    },
    {
      "cell_type": "code",
      "execution_count": null,
      "metadata": {
        "id": "g2j2DLFt9ian"
      },
      "outputs": [],
      "source": [
        "# Charger le modèle Universal Sentence Encoder\n",
        "use_model = hub.load(\"https://tfhub.dev/google/universal-sentence-encoder/4\")\n",
        "\n",
        "# Créer un modèle personnalisé avec la couche Keras\n",
        "class USEModel(tf.keras.Model):\n",
        "    def __init__(self, use_model):\n",
        "        super(USEModel, self).__init__()\n",
        "        self.use_layer = hub.KerasLayer(use_model, trainable=False)\n",
        "\n",
        "    def call(self, inputs):\n",
        "        return self.use_layer(inputs)\n",
        "\n",
        "# Instancier le modèle personnalisé\n",
        "use_custom_model = USEModel(use_model)"
      ]
    },
    {
      "cell_type": "code",
      "execution_count": null,
      "metadata": {
        "id": "JqUO41Ce-Ajx"
      },
      "outputs": [],
      "source": [
        "# Echantillonner 50% de vos données\n",
        "sampled_data = DATA.sample(frac=0.5, random_state=42)\n",
        "\n",
        "# Utiliser les données échantillonnées pour la suite de votre code\n",
        "sentences = (sampled_data['Title'] + ' ' + sampled_data['Body']).tolist()\n",
        "\n",
        "import nltk\n",
        "nltk.download('punkt')\n",
        "from nltk.tokenize import word_tokenize\n",
        "\n",
        "tokenized_sentences = [word_tokenize(sentence) for sentence in sentences]\n",
        "\n",
        "# Convertir les listes de phrases en une seule chaîne de caractères\n",
        "input_text = [\" \".join(sentence) for sentence in tokenized_sentences]\n",
        "\n",
        "# Générer les embeddings des phrases\n",
        "sentence_embeddings = use_custom_model(inputs=input_text)\n",
        "\n"
      ]
    },
    {
      "cell_type": "code",
      "source": [
        "# Convertir les embeddings en numpy array\n",
        "X = sentence_embeddings.numpy()"
      ],
      "metadata": {
        "id": "HyEw4qOnzCvm"
      },
      "execution_count": null,
      "outputs": []
    },
    {
      "cell_type": "code",
      "source": [
        "# Créer une instance de MultiLabelBinarizer et ajuster sur les libellés d'entraînement\n",
        "mlb = MultiLabelBinarizer()\n",
        "y_pred_bert = mlb.fit_transform(sampled_data['filtered_tags'])"
      ],
      "metadata": {
        "id": "AnqpVaj5OZbd"
      },
      "execution_count": null,
      "outputs": []
    },
    {
      "cell_type": "code",
      "source": [
        "# Séparation des données en ensemble d'entraînement et ensemble de test\n",
        "X_train, X_test, y_train, y_test = train_test_split(X, y_pred_bert, test_size=0.2, random_state=42)"
      ],
      "metadata": {
        "id": "sSsqiKuoFTmN"
      },
      "execution_count": null,
      "outputs": []
    },
    {
      "cell_type": "code",
      "source": [
        "# 5. Entraînement du modèle\n",
        "classifier = OneVsRestClassifier(LogisticRegression())\n",
        "start_time = time.time()\n",
        "classifier.fit(X_train, y_train)\n",
        "end_time = time.time()"
      ],
      "metadata": {
        "id": "a8AP5VdoFadx"
      },
      "execution_count": null,
      "outputs": []
    },
    {
      "cell_type": "code",
      "source": [
        "# 6. Évaluation du modèle\n",
        "from sklearn.metrics import classification_report\n",
        "y_pred_use = classifier.predict(X_test)\n",
        "# Calculate metrics\n",
        "jaccard = jaccard_score(y_test, y_pred_use, average='weighted')\n",
        "accuracy = accuracy_score(y_test, y_pred_use)\n",
        "precision = precision_score(y_test, y_pred_use, average='weighted')\n",
        "recall = recall_score(y_test, y_pred_use, average='weighted')\n",
        "f1 = f1_score(y_test, y_pred_use, average='weighted')\n",
        "report = classification_report(y_test, y_pred_use)\n",
        "\n",
        "# Log metrics\n",
        "print(\"Jaccard\", round(jaccard, 2))\n",
        "print(\"accuracy\", round(accuracy, 2))\n",
        "print(\"precision\", round(precision, 2))\n",
        "print(\"recall\", round(recall, 2))\n",
        "print(\"f1\", round(f1, 2))\n",
        "print(\"training_time\", end_time - start_time)\n",
        "print(\"Classification Report:\\n\", report)"
      ],
      "metadata": {
        "id": "Lr2Xf-acEZq1"
      },
      "execution_count": null,
      "outputs": []
    },
    {
      "cell_type": "markdown",
      "source": [
        "## **BERT Embedding**"
      ],
      "metadata": {
        "id": "JKn8R6CzQ38Q"
      }
    },
    {
      "cell_type": "code",
      "source": [
        "# Authentification avec Hugging Face Hub\n",
        "from huggingface_hub import notebook_login\n",
        "notebook_login()\n",
        "\n",
        "# Importer les bibliothèques nécessaires\n",
        "from transformers import AutoTokenizer, AutoModel\n",
        "import gc\n",
        "\n",
        "# Nettoyer la mémoire\n",
        "gc.collect()\n",
        "\n",
        "# Redémarrer le runtime pour s'assurer que toutes les modifications sont prises en compte\n",
        "from IPython.display import clear_output\n",
        "clear_output()"
      ],
      "metadata": {
        "id": "zVduO31VssaP"
      },
      "execution_count": null,
      "outputs": []
    },
    {
      "cell_type": "code",
      "source": [
        "# Chargement du modèle BERT\n",
        "bert_model_path = \"https://tfhub.dev/google/experts/bert/wiki_books/sst2/2\"\n",
        "bert_preprocess_model = hub.KerasLayer(\"https://tfhub.dev/tensorflow/bert_en_uncased_preprocess/3\")\n",
        "bert_model = hub.KerasLayer(bert_model_path)"
      ],
      "metadata": {
        "id": "hXQWND6vRPh1"
      },
      "execution_count": null,
      "outputs": []
    },
    {
      "cell_type": "code",
      "source": [
        "sampled_data = DATA.sample(frac=0.1, random_state=42)"
      ],
      "metadata": {
        "id": "U0np3OdMvnW6"
      },
      "execution_count": null,
      "outputs": []
    },
    {
      "cell_type": "code",
      "source": [
        "texts = sampled_data['Title'] + ' ' + sampled_data['Body']"
      ],
      "metadata": {
        "id": "oqSMmVWbup7T"
      },
      "execution_count": null,
      "outputs": []
    },
    {
      "cell_type": "code",
      "source": [
        "from transformers import DistilBertTokenizer, DistilBertModel\n",
        "tokenizer = DistilBertTokenizer.from_pretrained('distilbert-base-uncased')\n",
        "tokenized_texts = tokenizer(texts.tolist(), padding=True, truncation=True, return_tensors='pt')"
      ],
      "metadata": {
        "id": "sEbR-gObu4BP"
      },
      "execution_count": null,
      "outputs": []
    },
    {
      "cell_type": "code",
      "source": [
        "from torch.utils.data import DataLoader, TensorDataset\n",
        "batch_size = 16  # Vous pouvez ajuster cette taille selon vos besoins\n",
        "dataset = TensorDataset(tokenized_texts['input_ids'], tokenized_texts['attention_mask'])\n",
        "dataloader = DataLoader(dataset, batch_size=batch_size)"
      ],
      "metadata": {
        "id": "iNbvmXVmvGNv"
      },
      "execution_count": null,
      "outputs": []
    },
    {
      "cell_type": "code",
      "source": [
        "import logging\n",
        "import pandas as pd\n",
        "import torch\n",
        "from torch.utils.data import DataLoader, TensorDataset\n",
        "from transformers import DistilBertTokenizer, DistilBertModel\n",
        "\n",
        "# Setup logging\n",
        "logging.basicConfig(level=logging.INFO)\n",
        "logger = logging.getLogger(__name__)"
      ],
      "metadata": {
        "id": "oVPGAX8ev5CX"
      },
      "execution_count": null,
      "outputs": []
    },
    {
      "cell_type": "code",
      "source": [
        "all_embeddings = []\n",
        "\n",
        "logger.info(\"Creating DistilBERT embeddings in batches...\")\n",
        "model = DistilBertModel.from_pretrained('distilbert-base-uncased')\n",
        "model.eval()\n",
        "\n",
        "for batch in dataloader:\n",
        "    input_ids, attention_mask = batch\n",
        "    with torch.no_grad():\n",
        "        outputs = model(input_ids, attention_mask=attention_mask)\n",
        "        batch_embeddings = outputs.last_hidden_state.mean(dim=1)\n",
        "        all_embeddings.append(batch_embeddings)\n",
        "\n",
        "embeddings = torch.cat(all_embeddings, dim=0)\n",
        "logger.info(\"Embeddings created successfully.\")"
      ],
      "metadata": {
        "id": "1ucZ8WNAvsq2"
      },
      "execution_count": null,
      "outputs": []
    },
    {
      "cell_type": "code",
      "source": [
        "X = embeddings.cpu().numpy()"
      ],
      "metadata": {
        "id": "PLWHX_02TIN_"
      },
      "execution_count": null,
      "outputs": []
    },
    {
      "cell_type": "code",
      "source": [
        "# Créer une instance de MultiLabelBinarizer et ajuster sur les libellés d'entraînement\n",
        "mlb = MultiLabelBinarizer()\n",
        "y_pred_bert = mlb.fit_transform(sampled_data['filtered_tags'])"
      ],
      "metadata": {
        "id": "vOuezzWoSa2H"
      },
      "execution_count": null,
      "outputs": []
    },
    {
      "cell_type": "code",
      "source": [
        "# Séparation des données en ensemble d'entraînement et ensemble de test\n",
        "X_train, X_test, y_train, y_test = train_test_split(X, y_pred_bert, test_size=0.2, random_state=42)"
      ],
      "metadata": {
        "id": "_UytVEaHSmXv"
      },
      "execution_count": null,
      "outputs": []
    },
    {
      "cell_type": "code",
      "source": [
        "# 5. Entraînement du modèle\n",
        "classifier = OneVsRestClassifier(LogisticRegression())\n",
        "start_time = time.time()\n",
        "classifier.fit(X_train, y_train)\n",
        "end_time = time.time()"
      ],
      "metadata": {
        "collapsed": true,
        "id": "gw44tBozUjAE"
      },
      "execution_count": null,
      "outputs": []
    },
    {
      "cell_type": "code",
      "source": [
        "# 6. Évaluation du modèle\n",
        "y_pred = classifier.predict(X_test)\n",
        "# Calculate metrics\n",
        "jaccard = jaccard_score(y_test, y_pred, average='weighted')\n",
        "accuracy = accuracy_score(y_test, y_pred)\n",
        "precision = precision_score(y_test, y_pred, average='weighted')\n",
        "recall = recall_score(y_test, y_pred, average='weighted')\n",
        "f1 = f1_score(y_test, y_pred, average='weighted')\n",
        "report = classification_report(y_test, y_pred)\n",
        "\n",
        "# Log metrics\n",
        "print(\"Jaccard\", round(jaccard, 2))\n",
        "print(\"accuracy\", round(accuracy, 2))\n",
        "print(\"precision\", round(precision, 2))\n",
        "print(\"recall\", round(recall, 2))\n",
        "print(\"f1\", round(f1, 2))\n",
        "print(\"training_time\", end_time - start_time)\n",
        "print(\"Classification Report:\\n\", report)"
      ],
      "metadata": {
        "id": "K7zMth1R10U8"
      },
      "execution_count": null,
      "outputs": []
    }
  ],
  "metadata": {
    "colab": {
      "provenance": []
    },
    "kernelspec": {
      "display_name": "Python 3",
      "name": "python3"
    },
    "language_info": {
      "name": "python"
    }
  },
  "nbformat": 4,
  "nbformat_minor": 0
}